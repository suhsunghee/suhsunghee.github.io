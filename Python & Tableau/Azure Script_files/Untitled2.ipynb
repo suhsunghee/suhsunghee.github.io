{
 "cells": [
  {
   "cell_type": "code",
   "execution_count": null,
   "id": "fb64c1fc",
   "metadata": {},
   "outputs": [],
   "source": [
    "mport pandas as pd\n",
    "df = pd.read_csv(\"02-07-2022_Azure_raw_data.csv\")\n",
    "costmatrix = pd.read_csv('CostMatrix.csv')\n",
    "costmatrix=costmatrix.rename(columns ={'Subscription':'Subscription_Name'})\n",
    "df.columns=df.columns.str.replace(\" \",\"_\")\n",
    "\n",
    "#change the exchange rate \n",
    "df['Exchange_Rate'] = 1.807107468\n",
    "df['USD']=(df['ExtendedCost']*1.807107468)\n",
    "df = df.fillna('')\n",
    "df = pd.merge(df, costmatrix, how = 'left', on='Subscription_Name')\n",
    "pivot = df.pivot_table(values = [\"Consumed_Quantity\",\"ExtendedCost\",\"USD\"],index=[\"Subscription_Name\",\"Account_Name\",\"Meter_Region\",\"Resource_Location\",\"Product\",\"Meter_Category\",\"Unit_Of_Measure\",\"Month\"], aggfunc='sum')\n",
    "pivot.to_excel(\"pivoted.xlsx\",merge_cells=False)\n",
    "df2 = pd.read_excel(\"pivoted.xlsx\")\n",
    "df2 = pd.merge(df2, costmatrix, how='left', on =\"Subscription_Name\")\n",
    "\n",
    "\n",
    "df2['Exchange_Rate'] = 1.807107468\n",
    "df2['USD']=(df2['ExtendedCost']*1.807107468)\n",
    "df2['Month #'] = '2'\n",
    "df2[\"Month text\"] = \"Feb\"\n",
    "df2[\"Year\"] = \"2022\"\n",
    "df2[\"Quarter\"] = \"Q1\"\n",
    "df2[\"ID\"] = \"Spend\"\n",
    "df2[\"Month\"] = '02/01/2022' \n",
    "df2 = df2[[\"Subscription_Name\",\"Account_Name\",\"Meter_Region\",\"Resource_Location\",\"Product\",\"Meter_Category\",\"Unit_Of_Measure\",\"Month #\",\"Consumed_Quantity\",\"ExtendedCost\",\"Exchange_Rate\",\"U"
   ]
  }
 ],
 "metadata": {
  "kernelspec": {
   "display_name": "Python 3 (ipykernel)",
   "language": "python",
   "name": "python3"
  },
  "language_info": {
   "codemirror_mode": {
    "name": "ipython",
    "version": 3
   },
   "file_extension": ".py",
   "mimetype": "text/x-python",
   "name": "python",
   "nbconvert_exporter": "python",
   "pygments_lexer": "ipython3",
   "version": "3.9.7"
  }
 },
 "nbformat": 4,
 "nbformat_minor": 5
}
