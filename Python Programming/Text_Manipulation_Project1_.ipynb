{
  "cells": [
    {
      "cell_type": "markdown",
      "metadata": {
        "id": "bhWV8oes-wKR"
      },
      "source": [
        "# COURSE: Master Python for scientific programming by solving projects\n",
        "## PROJECT: Text search and replace\n",
        "#### TEACHER: Mike X Cohen, sincxpress.com\n",
        "##### COURSE URL: udemy.com/course/maspy_x/?couponCode=202201"
      ]
    },
    {
      "cell_type": "code",
      "execution_count": 3,
      "metadata": {
        "id": "JL_0UKJOj1YP"
      },
      "outputs": [],
      "source": [
        "# import all necessary modules\n",
        "import re\n",
        "import string\n",
        "import numpy as np\n",
        "from google.colab import files"
      ]
    },
    {
      "cell_type": "markdown",
      "metadata": {
        "id": "dqmU7gnmbu8L"
      },
      "source": [
        "# Import a text file"
      ]
    },
    {
      "cell_type": "code",
      "execution_count": 4,
      "metadata": {
        "id": "82RcRrWTcNa8",
        "colab": {
          "resources": {
            "http://localhost:8080/nbextensions/google.colab/files.js": {
              "data": "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",
              "ok": true,
              "headers": [
                [
                  "content-type",
                  "application/javascript"
                ]
              ],
              "status": 200,
              "status_text": ""
            }
          },
          "base_uri": "https://localhost:8080/",
          "height": 73
        },
        "outputId": "3908c335-71e1-4634-bbe0-12674ac83aa7"
      },
      "outputs": [
        {
          "output_type": "display_data",
          "data": {
            "text/plain": [
              "<IPython.core.display.HTML object>"
            ],
            "text/html": [
              "\n",
              "     <input type=\"file\" id=\"files-b488beb2-9d0f-4e3c-aa3b-60a58ae702bf\" name=\"files[]\" multiple disabled\n",
              "        style=\"border:none\" />\n",
              "     <output id=\"result-b488beb2-9d0f-4e3c-aa3b-60a58ae702bf\">\n",
              "      Upload widget is only available when the cell has been executed in the\n",
              "      current browser session. Please rerun this cell to enable.\n",
              "      </output>\n",
              "      <script src=\"/nbextensions/google.colab/files.js\"></script> "
            ]
          },
          "metadata": {}
        },
        {
          "output_type": "stream",
          "name": "stdout",
          "text": [
            "Saving captions_text.vtt to captions_text.vtt\n"
          ]
        }
      ],
      "source": [
        "file = files.upload()"
      ]
    },
    {
      "cell_type": "code",
      "execution_count": 5,
      "metadata": {
        "id": "yl9WcPCUc_Pr",
        "colab": {
          "base_uri": "https://localhost:8080/"
        },
        "outputId": "8dc98a34-5eb7-4e14-b6c5-646be982f701"
      },
      "outputs": [
        {
          "output_type": "stream",
          "name": "stdout",
          "text": [
            "<class 'dict'>\n",
            "1\n"
          ]
        },
        {
          "output_type": "execute_result",
          "data": {
            "text/plain": [
              "dict_keys(['captions_text.vtt'])"
            ]
          },
          "metadata": {},
          "execution_count": 5
        }
      ],
      "source": [
        "# extract just the text and have a look at it\n",
        "print(type(file))\n",
        "print(len(file))\n",
        "\n",
        "file.keys()"
      ]
    },
    {
      "cell_type": "code",
      "execution_count": 6,
      "metadata": {
        "id": "z7jPTXCniDnM",
        "colab": {
          "base_uri": "https://localhost:8080/",
          "height": 88
        },
        "outputId": "10559c3b-4467-40cc-97ae-b806eab9f555"
      },
      "outputs": [
        {
          "output_type": "execute_result",
          "data": {
            "text/plain": [
              "'b\"WEBVTT\\\\n\\\\n0\\\\n00:00.760 --> 00:05.080\\\\nI\\'m now going to give you two more example problems of computing.\\\\n\\\\n1\\\\n00:05.080 --> 00:09.310\\\\neigendecomposition of matrices by hand.\\\\n\\\\n2\\\\n00:09.310 --> 00:14.860\\\\nObviously this is on the computer but I encourage you to do these problems by hand and they\\'re not done\\\\n\\\\n3\\\\n00:14.860 --> 00:15.520\\\\nin Matlab.\\\\n\\\\n4\\\\n00:15.520 --> 00:19.270\\\\nSo I guess that\\'s what it means by hand.\\\\n\\\\n5\\\\n00:19.270 --> 00:20.530\\\\nSo let\\'s get started.\\\\n\\\\n6\\\\n00:20.560 --> 00:28.030\\\\nHere is a two by two matrix and you should pause the video go through find the eigenvalues and the eigenvectors\\\\n\\\\n7\\\\n00:28.060 --> 00:37.120\\\\nof this matrix so the way we start is by shifting the matrix by Lambda so subtracting lambda from the\\\\n\\\\n8\\\\n00:37.120 --> 00:44.260\\\\ndiagonal elements setting the determinant equal to zero and then proceeding to compute the determinant\\\\n\\\\n9\\\\n00:44.290 --> 00:48.820\\\\nwhich is also called the characteristic equation of this matrix.\\\\n\\\\n10\\\\n00:48.850 --> 00:57.730\\\\nSo that works out to be three minus lambda times six minus lambda minus four equals zero and then expanding\\\\n\\\\n11\\\\n00:57.760 --> 01:04.600\\\\nthese two terms multiplying out these two terms and then collecting the like terms gives us lambda squared\\\\n\\\\n12\\\\n01:04.960 --> 01:13.930\\\\nminus nine lambda plus fourteen equals zero and then this expression here can be factored into lambda\\\\n\\\\n13\\\\n01:14.020 --> 01:22.150\\\\nminus seven and Lambda minus two and now it\\'s pretty easy to see that the two lambdas that will solve\\\\n\\\\n14\\\\n01:22.150 --> 01:24.280\\\\nthis equation that solve this equation.\\\\n\\\\n15\\\\n01:24.280 --> 01:30.910\\\\nIn other words the two eigenvalues of this matrix are plus 7 and plus two.\\\\n\\\\n16\\\\n01:30.910 --> 01:37.180\\\\nSo that was step one we found the eigenvalues of this matrix and now we go through for each of these\\\\n\\\\n17\\\\n01:37.180 --> 01:45.160\\\\neigenvalues shift the matrix by that amount by that value and then figure out what is a vector in the\\\\n\\\\n18\\\\n01:45.280 --> 01:48.410\\\\nshifted matrices null space.\\\\n\\\\n19\\\\n01:48.630 --> 01:50.530\\\\nOK so let\\'s start with 2.\\\\n\\\\n20\\\\n01:50.580 --> 01:53.610\\\\nSo this gives us the matrix 1 1 4 4.\\\\n\\\\n21\\\\n01:53.610 --> 02:00.360\\\\nAnd now we want to find the missing vector here and you\\'ve probably guessed it already it is 1 minus\\\\n\\\\n22\\\\n02:00.360 --> 02:01.470\\\\n1.\\\\n\\\\n23\\\\n02:01.590 --> 02:09.330\\\\nAnd of course you know that also acceptable would be minus 1 1 or minus quadrillion plus quadrillion.\\\\n\\\\n24\\\\n02:09.570 --> 02:17.130\\\\nThis vector simply identifies a subspace for the null space of this shifted matrix in any vector that\\'s\\\\n\\\\n25\\\\n02:17.250 --> 02:23.520\\\\nin that null space is perfectly fine as an eigenvector.\\\\n\\\\n26\\\\n02:23.520 --> 02:31.860\\\\nNow that said the best choice for an eigenvector would be a vector that has a norm of 1 a magnitude\\\\n\\\\n27\\\\n02:31.860 --> 02:32.710\\\\nof 1.\\\\n\\\\n28\\\\n02:32.940 --> 02:39.270\\\\nAnd the second best choice would be integer values that are easy to interpret and compact to write like\\\\n\\\\n29\\\\n02:39.270 --> 02:40.230\\\\nthis.\\\\n\\\\n30\\\\n02:40.230 --> 02:40.500\\\\nAll right.\\\\n\\\\n31\\\\n02:40.520 --> 02:41.730\\\\nSo this was for two.\\\\n\\\\n32\\\\n02:41.730 --> 02:49.350\\\\nNow we go to the second eigenvalues which was seven and that gives us this matrix minus 4 1 and 4 minus\\\\n\\\\n33\\\\n02:49.350 --> 02:50.300\\\\n1.\\\\n\\\\n34\\\\n02:50.370 --> 02:57.210\\\\nAnd here a vector that could work as an eigenvector as a basis for the null space of this shifted matrix\\\\n\\\\n35\\\\n02:57.300 --> 02:59.790\\\\nis the numbers 1 4.\\\\n\\\\n36\\\\n02:59.820 --> 03:06.690\\\\nSo here is the big picture overview we have this matrix and here you see the eigenvalue and its corresponding\\\\n\\\\n37\\\\n03:06.690 --> 03:12.010\\\\neigenvector and the other eigenvalue and the other corresponding eigenvector.\\\\n\\\\n38\\\\n03:12.060 --> 03:14.080\\\\nNow your results will be correct.\\\\n\\\\n39\\\\n03:14.190 --> 03:21.960\\\\nIf you have the correct pairing of eigenvalue and any multiple any scaled version of this vector; it\\\\n\\\\n40\\\\n03:21.960 --> 03:28.860\\\\ndoesn\\'t matter if you call this lambda one and this V one that\\'s fine because there\\'s no intrinsic ordering.\\\\n\\\\n41\\\\n03:28.860 --> 03:32.250\\\\nWhat matters is that you have the pairing correct.\\\\n\\\\n42\\\\n03:32.250 --> 03:32.470\\\\nAll right.\\\\n\\\\n43\\\\n03:32.490 --> 03:34.310\\\\nSo that was the two by two case.\\\\n\\\\n44\\\\n03:34.380 --> 03:37.080\\\\nNow let\\'s go for a three by three case.\\\\n\\\\n45\\\\n03:37.080 --> 03:40.160\\\\nThis one is a little bit more challenging and I have to admit.\\\\n\\\\n46\\\\n03:40.200 --> 03:45.660\\\\nSo I first came up with these numbers and then I started computing the eigendecomposition.\\\\n\\\\n47\\\\n03:45.660 --> 03:50.480\\\\nNow I have to admit that I got stuck on one of the eigenvectors.\\\\n\\\\n48\\\\n03:50.670 --> 03:52.400\\\\nI couldn\\'t quite figure it out on my own.\\\\n\\\\n49\\\\n03:52.430 --> 03:54.390\\\\nSo I used Matlab to compute that\\\\n\\\\n50\\\\n03:54.390 --> 03:55.200\\\\neigenvector.\\\\n\\\\n51\\\\n03:55.500 --> 04:04.490\\\\nSo what I encourage you to do is find all three eigenvalues by hand and I think it will be pretty obvious\\\\n\\\\n52\\\\n04:04.490 --> 04:08.390\\\\nwhen you start working through it which is the difficult eigenvalue.\\\\n\\\\n53\\\\n04:08.390 --> 04:15.530\\\\nSo then what you should do by hand is find two of the eigenvectors that you can get basically just by\\\\n\\\\n54\\\\n04:15.800 --> 04:18.920\\\\nkind of eyeballing and making some educated guesses.\\\\n\\\\n55\\\\n04:18.920 --> 04:24.860\\\\nAnd then the third eigenvector you can use a computer to solve or you can just wait and watch me come\\\\n\\\\n56\\\\n04:24.860 --> 04:26.660\\\\nup with a solution.\\\\n\\\\n57\\\\n04:26.850 --> 04:27.090\\\\nAll right.\\\\n\\\\n58\\\\n04:27.120 --> 04:34.590\\\\nSo again we start by shifting this matrix by minus lambda setting the determinant equal to zero and\\\\n\\\\n59\\\\n04:34.590 --> 04:40.770\\\\nthen proceeding to compute the determinant of this equation and altogether that gives us the characteristic\\\\n\\\\n60\\\\n04:40.830 --> 04:43.560\\\\nequation of this matrix.\\\\n\\\\n61\\\\n04:43.560 --> 04:45.270\\\\nNow this is a little bit longer.\\\\n\\\\n62\\\\n04:45.270 --> 04:50.820\\\\nIt\\'s a little bit trickier the arithmetic gets a little bit hairy in particular you end up with this\\\\n\\\\n63\\\\n04:50.910 --> 04:59.240\\\\nminus lambda cubed term as well as a couple of multiple terms with Lambda and Lambda squared.\\\\n\\\\n64\\\\n04:59.250 --> 05:05.490\\\\nNow once you collect all of these like terms you\\'ll end up with an expression that looks like this.\\\\n\\\\n65\\\\n05:05.520 --> 05:15.240\\\\nSo it should be minus lambda cubed plus 10 times lambda squared plus eleven lambda equals zero Now something\\\\n\\\\n66\\\\n05:15.270 --> 05:22.030\\\\ninteresting has happened here all of these terms have a lambda attached to them which means that we\\\\n\\\\n67\\\\n05:22.030 --> 05:29.950\\\\ncan take a lambda out of each of these terms and rewrite this expression as minus lambda times.\\\\n\\\\n68\\\\n05:29.980 --> 05:36.160\\\\nAll of this stuff and immediately that tells us that lambda equals zero is a solution.\\\\n\\\\n69\\\\n05:36.160 --> 05:43.030\\\\nSo when you set this lambda to be zero it doesn\\'t actually matter what\\'s inside this parenthetical statement\\\\n\\\\n70\\\\n05:43.360 --> 05:47.390\\\\nthat\\'s immediately going to set to make this equation true.\\\\n\\\\n71\\\\n05:47.440 --> 05:55.300\\\\nThat means that one of the eigenvalues of this matrix is zero and I\\'m going to have an entire video\\\\n\\\\n72\\\\n05:55.330 --> 05:59.140\\\\njust about this phenomenon a little bit later in this section.\\\\n\\\\n73\\\\n05:59.140 --> 06:03.550\\\\nBut essentially when an eigenvector is an eigenvalue is zero.\\\\n\\\\n74\\\\n06:03.730 --> 06:10.360\\\\nIt means that the matrix is singular and that you can actually see by looking at this matrix and you\\\\n\\\\n75\\\\n06:10.360 --> 06:19.080\\\\nsee that column 1 plus column 2 equals column 3 so whenever you have a singular matrix at least one\\\\n\\\\n76\\\\n06:19.140 --> 06:22.110\\\\neigenvalues value is going to be equal to zero.\\\\n\\\\n77\\\\n06:22.170 --> 06:30.450\\\\nAnd in fact the number of eigenvalues that are equal to zero tells you about the rank of this matrix.\\\\n\\\\n78\\\\n06:30.490 --> 06:33.870\\\\nMore on that in the later video.\\\\n\\\\n79\\\\n06:33.880 --> 06:39.160\\\\nNow once you\\'ve gotten to this step you can further factor this equation and you end up with the result\\\\n\\\\n80\\\\n06:39.160 --> 06:44.360\\\\nthat lambda equals zero lambda equals minus 1 and Lambda equals eleven.\\\\n\\\\n81\\\\n06:44.590 --> 06:50.110\\\\nSo you can probably guess that this is going to be the tricky I can value to compute the corresponding\\\\n\\\\n82\\\\n06:50.110 --> 06:55.600\\\\nI can vector of and this is the one that I got a little bit stuck with.\\\\n\\\\n83\\\\n06:55.600 --> 06:57.490\\\\nAnd so I used Matlab as a crutch.\\\\n\\\\n84\\\\n06:57.490 --> 06:58.540\\\\nI cheated a little bit.\\\\n\\\\n85\\\\n06:59.250 --> 07:01.500\\\\nOK so but let\\'s go through all of these.\\\\n\\\\n86\\\\n07:01.840 --> 07:07.840\\\\nSo we start with zero and now this is kind of a funny thing because we are shifting the matrix by zero\\\\n\\\\n87\\\\n07:08.200 --> 07:10.970\\\\nwhich actually means we\\'re not changing the matrix at all.\\\\n\\\\n88\\\\n07:11.140 --> 07:21.000\\\\nAnd that means that this matrix A already has a non-trivial null space even without doing any shifting.\\\\n\\\\n89\\\\n07:21.130 --> 07:28.010\\\\nSo this problem actually boils down to finding a vector in the null space or a basis for the null space.\\\\n\\\\n90\\\\n07:28.270 --> 07:35.380\\\\nEven without doing any shifting so based on what I just told you about how do I set up this matrix that\\\\n\\\\n91\\\\n07:35.660 --> 07:42.950\\\\ncolumn one plus column two equals column three a basis for the null space is 1 one minus 1.\\\\n\\\\n92\\\\n07:42.970 --> 07:49.130\\\\nSo you can try for each of these rows the first column plus the second column minus the third column\\\\n\\\\n93\\\\n07:49.220 --> 07:52.090\\\\nequals zero all right.\\\\n\\\\n94\\\\n07:52.100 --> 07:53.270\\\\nSo now let\\'s move on.\\\\n\\\\n95\\\\n07:53.270 --> 07:59.350\\\\nSo now we shift this matrix by eleven and this is basically where I got stuck and switch to matlab.\\\\n\\\\n96\\\\n07:59.360 --> 08:04.570\\\\nSo it turns out that eigenvector is nineteen forty one and thirty six.\\\\n\\\\n97\\\\n08:04.580 --> 08:10.430\\\\nSo if you figured out this I can vector on your own without using a computer then good for you you are\\\\n\\\\n98\\\\n08:10.460 --> 08:14.960\\\\na better or at least more patient mathematician than I am.\\\\n\\\\n99\\\\n08:15.200 --> 08:19.210\\\\nAnd then we get to the third eigenvalue which was minus one.\\\\n\\\\n100\\\\n08:19.220 --> 08:21.130\\\\nSo now that becomes plus one.\\\\n\\\\n101\\\\n08:21.230 --> 08:26.390\\\\nAnd here is that shifted matrix and this one you should be able to solve on your own.\\\\n\\\\n102\\\\n08:26.480 --> 08:28.810\\\\nIn fact it\\'s even easier than it looks.\\\\n\\\\n103\\\\n08:28.820 --> 08:35.930\\\\nAnd if you need a hint before I show the answer then the hint is just consider that this third column\\\\n\\\\n104\\\\n08:36.020 --> 08:42.340\\\\nis actually pretty useless if you get rid of this third column it becomes really easy to find the \\\\n\\\\n105\\\\n08:42.380 --> 08:46.520\\\\neigenvector in this shifted matrices null space.\\\\n\\\\n106\\\\n08:46.790 --> 08:52.400\\\\nSo in fact it\\'s one minus one and then zero you just set the third element to be zero.\\\\n\\\\n107\\\\n08:52.670 --> 08:59.810\\\\nSo that leads us to the big picture overview of the eigendecomposition of this three by three singular\\\\n\\\\n108\\\\n08:59.810 --> 09:06.130\\\\nmatrix rank 2 matrix we have eigenvalues 0 minus 11 and minus 1.\\\\n\\\\n109\\\\n09:06.200 --> 09:09.200\\\\nAnd these are the corresponding eigenvectors.\\\\n\\\\n110\\\\n09:09.200 --> 09:12.430\\\\nAnd notice I\\'ve written them as row vectors and then transpose.\\\\n\\\\n111\\\\n09:12.430 --> 09:19.160\\\\nSo these are still column vectors we generally always think about eigenvectors as column vectors and\\\\n\\\\n112\\\\n09:19.160 --> 09:25.640\\\\nyou will learn more about why that is the case in the video on diagonalization, which is coming up soon.\"'"
            ],
            "application/vnd.google.colaboratory.intrinsic+json": {
              "type": "string"
            }
          },
          "metadata": {},
          "execution_count": 6
        }
      ],
      "source": [
        "key = list(file.keys())\n",
        "text = str( file[key[0]] )\n",
        "\n",
        "str(text)"
      ]
    },
    {
      "cell_type": "markdown",
      "metadata": {
        "id": "0pGZgggkiHXs"
      },
      "source": [
        "# Remove formatting text"
      ]
    },
    {
      "cell_type": "code",
      "execution_count": 8,
      "metadata": {
        "id": "IPwVS7KNl791",
        "colab": {
          "base_uri": "https://localhost:8080/"
        },
        "outputId": "cdc511ac-b67d-4ef1-a497-9c59f13cd5bc"
      },
      "outputs": [
        {
          "output_type": "execute_result",
          "data": {
            "text/plain": [
              "['Sunghee', 'Sunghee']"
            ]
          },
          "metadata": {},
          "execution_count": 8
        }
      ],
      "source": [
        "# quick intro to matching with regex\n",
        "sentence = \"Hi, my name is Sunghee and I like to eat Sunghee's purple chocolate.\"\n",
        "\n",
        "regex_name = re.compile('Sunghee')\n",
        "regex_name.findall(sentence)"
      ]
    },
    {
      "cell_type": "code",
      "execution_count": 9,
      "metadata": {
        "id": "EDOWrWczmcMB",
        "colab": {
          "base_uri": "https://localhost:8080/",
          "height": 36
        },
        "outputId": "b286366b-86cc-45d8-8069-b167af6dee99"
      },
      "outputs": [
        {
          "output_type": "execute_result",
          "data": {
            "text/plain": [
              "\"Hi, my name is Baby Girl and I like to eat Baby Girl's purple chocolate.\""
            ],
            "application/vnd.google.colaboratory.intrinsic+json": {
              "type": "string"
            }
          },
          "metadata": {},
          "execution_count": 9
        }
      ],
      "source": [
        "# substitution\n",
        "regex_name.sub('Baby Girl',sentence)\n",
        "\n",
        "# names = ['Adam','Bob','Carlos']\n",
        "# for name in names:\n",
        "#   print(regex_name.sub(name,sentence))"
      ]
    },
    {
      "cell_type": "code",
      "execution_count": 10,
      "metadata": {
        "id": "3Z9IjJ-Bmpua",
        "colab": {
          "base_uri": "https://localhost:8080/"
        },
        "outputId": "2cf07f34-6ca0-459a-b23b-6dd1b48f0809"
      },
      "outputs": [
        {
          "output_type": "execute_result",
          "data": {
            "text/plain": [
              "['Mike', 'Muke']"
            ]
          },
          "metadata": {},
          "execution_count": 10
        }
      ],
      "source": [
        "# searching with wildcards\n",
        "sentence = \"Hi, my name is Mike and I like to eat Muke's purple chocolate.\"\n",
        "\n",
        "regex_name = re.compile(r'M\\wke')\n",
        "regex_name.findall(sentence)"
      ]
    },
    {
      "cell_type": "code",
      "execution_count": 11,
      "metadata": {
        "id": "c9MlwfgAdwT5",
        "colab": {
          "base_uri": "https://localhost:8080/"
        },
        "outputId": "759afd5d-53e8-40c3-8556-db3dfdc84a93"
      },
      "outputs": [
        {
          "output_type": "execute_result",
          "data": {
            "text/plain": [
              "['\\\\n\\\\n0\\\\n00:00.760 --> 00:05.080\\\\n',\n",
              " '\\\\n\\\\n1\\\\n00:05.080 --> 00:09.310\\\\n',\n",
              " '\\\\n\\\\n2\\\\n00:09.310 --> 00:14.860\\\\n',\n",
              " '\\\\n\\\\n3\\\\n00:14.860 --> 00:15.520\\\\n',\n",
              " '\\\\n\\\\n4\\\\n00:15.520 --> 00:19.270\\\\n',\n",
              " '\\\\n\\\\n5\\\\n00:19.270 --> 00:20.530\\\\n',\n",
              " '\\\\n\\\\n6\\\\n00:20.560 --> 00:28.030\\\\n',\n",
              " '\\\\n\\\\n7\\\\n00:28.060 --> 00:37.120\\\\n',\n",
              " '\\\\n\\\\n8\\\\n00:37.120 --> 00:44.260\\\\n',\n",
              " '\\\\n\\\\n9\\\\n00:44.290 --> 00:48.820\\\\n']"
            ]
          },
          "metadata": {},
          "execution_count": 11
        }
      ],
      "source": [
        "# character strings to replace with space\n",
        "'\\n\\n?\\n??:??.??? --> ??:??.??\\n'\n",
        "\n",
        "pattern2replace = r'\\\\n\\\\n\\d\\\\n\\d\\d:\\d\\d.\\d\\d\\d --> \\d\\d:\\d\\d.\\d\\d\\d\\\\n'\n",
        "\n",
        "# regex_timestamps = re.compile('the')\n",
        "regex_timestamps = re.compile('%s'%pattern2replace)\n",
        "regex_timestamps.findall(text)\n"
      ]
    },
    {
      "cell_type": "code",
      "execution_count": 12,
      "metadata": {
        "id": "t-JBb5ZIp2bW",
        "colab": {
          "base_uri": "https://localhost:8080/",
          "height": 88
        },
        "outputId": "f9a45dfd-11e9-4e0d-d53f-ee1a595f5e66"
      },
      "outputs": [
        {
          "output_type": "execute_result",
          "data": {
            "text/plain": [
              "'b\"WEBVTT I\\'m now going to give you two more example problems of computing. eigendecomposition of matrices by hand. Obviously this is on the computer but I encourage you to do these problems by hand and they\\'re not done in Matlab. So I guess that\\'s what it means by hand. So let\\'s get started. Here is a two by two matrix and you should pause the video go through find the eigenvalues and the eigenvectors of this matrix so the way we start is by shifting the matrix by Lambda so subtracting lambda from the diagonal elements setting the determinant equal to zero and then proceeding to compute the determinant which is also called the characteristic equation of this matrix.\\\\n\\\\n10\\\\n00:48.850 --> 00:57.730\\\\nSo that works out to be three minus lambda times six minus lambda minus four equals zero and then expanding\\\\n\\\\n11\\\\n00:57.760 --> 01:04.600\\\\nthese two terms multiplying out these two terms and then collecting the like terms gives us lambda squared\\\\n\\\\n12\\\\n01:04.960 --> 01:13.930\\\\nminus nine lambda plus fourteen equals zero and then this expression here can be factored into lambda\\\\n\\\\n13\\\\n01:14.020 --> 01:22.150\\\\nminus seven and Lambda minus two and now it\\'s pretty easy to see that the two lambdas that will solve\\\\n\\\\n14\\\\n01:22.150 --> 01:24.280\\\\nthis equation that solve this equation.\\\\n\\\\n15\\\\n01:24.280 --> 01:30.910\\\\nIn other words the two eigenvalues of this matrix are plus 7 and plus two.\\\\n\\\\n16\\\\n01:30.910 --> 01:37.180\\\\nSo that was step one we found the eigenvalues of this matrix and now we go through for each of these\\\\n\\\\n17\\\\n01:37.180 --> 01:45.160\\\\neigenvalues shift the matrix by that amount by that value and then figure out what is a vector in the\\\\n\\\\n18\\\\n01:45.280 --> 01:48.410\\\\nshifted matrices null space.\\\\n\\\\n19\\\\n01:48.630 --> 01:50.530\\\\nOK so let\\'s start with 2.\\\\n\\\\n20\\\\n01:50.580 --> 01:53.610\\\\nSo this gives us the matrix 1 1 4 4.\\\\n\\\\n21\\\\n01:53.610 --> 02:00.360\\\\nAnd now we want to find the missing vector here and you\\'ve probably guessed it already it is 1 minus\\\\n\\\\n22\\\\n02:00.360 --> 02:01.470\\\\n1.\\\\n\\\\n23\\\\n02:01.590 --> 02:09.330\\\\nAnd of course you know that also acceptable would be minus 1 1 or minus quadrillion plus quadrillion.\\\\n\\\\n24\\\\n02:09.570 --> 02:17.130\\\\nThis vector simply identifies a subspace for the null space of this shifted matrix in any vector that\\'s\\\\n\\\\n25\\\\n02:17.250 --> 02:23.520\\\\nin that null space is perfectly fine as an eigenvector.\\\\n\\\\n26\\\\n02:23.520 --> 02:31.860\\\\nNow that said the best choice for an eigenvector would be a vector that has a norm of 1 a magnitude\\\\n\\\\n27\\\\n02:31.860 --> 02:32.710\\\\nof 1.\\\\n\\\\n28\\\\n02:32.940 --> 02:39.270\\\\nAnd the second best choice would be integer values that are easy to interpret and compact to write like\\\\n\\\\n29\\\\n02:39.270 --> 02:40.230\\\\nthis.\\\\n\\\\n30\\\\n02:40.230 --> 02:40.500\\\\nAll right.\\\\n\\\\n31\\\\n02:40.520 --> 02:41.730\\\\nSo this was for two.\\\\n\\\\n32\\\\n02:41.730 --> 02:49.350\\\\nNow we go to the second eigenvalues which was seven and that gives us this matrix minus 4 1 and 4 minus\\\\n\\\\n33\\\\n02:49.350 --> 02:50.300\\\\n1.\\\\n\\\\n34\\\\n02:50.370 --> 02:57.210\\\\nAnd here a vector that could work as an eigenvector as a basis for the null space of this shifted matrix\\\\n\\\\n35\\\\n02:57.300 --> 02:59.790\\\\nis the numbers 1 4.\\\\n\\\\n36\\\\n02:59.820 --> 03:06.690\\\\nSo here is the big picture overview we have this matrix and here you see the eigenvalue and its corresponding\\\\n\\\\n37\\\\n03:06.690 --> 03:12.010\\\\neigenvector and the other eigenvalue and the other corresponding eigenvector.\\\\n\\\\n38\\\\n03:12.060 --> 03:14.080\\\\nNow your results will be correct.\\\\n\\\\n39\\\\n03:14.190 --> 03:21.960\\\\nIf you have the correct pairing of eigenvalue and any multiple any scaled version of this vector; it\\\\n\\\\n40\\\\n03:21.960 --> 03:28.860\\\\ndoesn\\'t matter if you call this lambda one and this V one that\\'s fine because there\\'s no intrinsic ordering.\\\\n\\\\n41\\\\n03:28.860 --> 03:32.250\\\\nWhat matters is that you have the pairing correct.\\\\n\\\\n42\\\\n03:32.250 --> 03:32.470\\\\nAll right.\\\\n\\\\n43\\\\n03:32.490 --> 03:34.310\\\\nSo that was the two by two case.\\\\n\\\\n44\\\\n03:34.380 --> 03:37.080\\\\nNow let\\'s go for a three by three case.\\\\n\\\\n45\\\\n03:37.080 --> 03:40.160\\\\nThis one is a little bit more challenging and I have to admit.\\\\n\\\\n46\\\\n03:40.200 --> 03:45.660\\\\nSo I first came up with these numbers and then I started computing the eigendecomposition.\\\\n\\\\n47\\\\n03:45.660 --> 03:50.480\\\\nNow I have to admit that I got stuck on one of the eigenvectors.\\\\n\\\\n48\\\\n03:50.670 --> 03:52.400\\\\nI couldn\\'t quite figure it out on my own.\\\\n\\\\n49\\\\n03:52.430 --> 03:54.390\\\\nSo I used Matlab to compute that\\\\n\\\\n50\\\\n03:54.390 --> 03:55.200\\\\neigenvector.\\\\n\\\\n51\\\\n03:55.500 --> 04:04.490\\\\nSo what I encourage you to do is find all three eigenvalues by hand and I think it will be pretty obvious\\\\n\\\\n52\\\\n04:04.490 --> 04:08.390\\\\nwhen you start working through it which is the difficult eigenvalue.\\\\n\\\\n53\\\\n04:08.390 --> 04:15.530\\\\nSo then what you should do by hand is find two of the eigenvectors that you can get basically just by\\\\n\\\\n54\\\\n04:15.800 --> 04:18.920\\\\nkind of eyeballing and making some educated guesses.\\\\n\\\\n55\\\\n04:18.920 --> 04:24.860\\\\nAnd then the third eigenvector you can use a computer to solve or you can just wait and watch me come\\\\n\\\\n56\\\\n04:24.860 --> 04:26.660\\\\nup with a solution.\\\\n\\\\n57\\\\n04:26.850 --> 04:27.090\\\\nAll right.\\\\n\\\\n58\\\\n04:27.120 --> 04:34.590\\\\nSo again we start by shifting this matrix by minus lambda setting the determinant equal to zero and\\\\n\\\\n59\\\\n04:34.590 --> 04:40.770\\\\nthen proceeding to compute the determinant of this equation and altogether that gives us the characteristic\\\\n\\\\n60\\\\n04:40.830 --> 04:43.560\\\\nequation of this matrix.\\\\n\\\\n61\\\\n04:43.560 --> 04:45.270\\\\nNow this is a little bit longer.\\\\n\\\\n62\\\\n04:45.270 --> 04:50.820\\\\nIt\\'s a little bit trickier the arithmetic gets a little bit hairy in particular you end up with this\\\\n\\\\n63\\\\n04:50.910 --> 04:59.240\\\\nminus lambda cubed term as well as a couple of multiple terms with Lambda and Lambda squared.\\\\n\\\\n64\\\\n04:59.250 --> 05:05.490\\\\nNow once you collect all of these like terms you\\'ll end up with an expression that looks like this.\\\\n\\\\n65\\\\n05:05.520 --> 05:15.240\\\\nSo it should be minus lambda cubed plus 10 times lambda squared plus eleven lambda equals zero Now something\\\\n\\\\n66\\\\n05:15.270 --> 05:22.030\\\\ninteresting has happened here all of these terms have a lambda attached to them which means that we\\\\n\\\\n67\\\\n05:22.030 --> 05:29.950\\\\ncan take a lambda out of each of these terms and rewrite this expression as minus lambda times.\\\\n\\\\n68\\\\n05:29.980 --> 05:36.160\\\\nAll of this stuff and immediately that tells us that lambda equals zero is a solution.\\\\n\\\\n69\\\\n05:36.160 --> 05:43.030\\\\nSo when you set this lambda to be zero it doesn\\'t actually matter what\\'s inside this parenthetical statement\\\\n\\\\n70\\\\n05:43.360 --> 05:47.390\\\\nthat\\'s immediately going to set to make this equation true.\\\\n\\\\n71\\\\n05:47.440 --> 05:55.300\\\\nThat means that one of the eigenvalues of this matrix is zero and I\\'m going to have an entire video\\\\n\\\\n72\\\\n05:55.330 --> 05:59.140\\\\njust about this phenomenon a little bit later in this section.\\\\n\\\\n73\\\\n05:59.140 --> 06:03.550\\\\nBut essentially when an eigenvector is an eigenvalue is zero.\\\\n\\\\n74\\\\n06:03.730 --> 06:10.360\\\\nIt means that the matrix is singular and that you can actually see by looking at this matrix and you\\\\n\\\\n75\\\\n06:10.360 --> 06:19.080\\\\nsee that column 1 plus column 2 equals column 3 so whenever you have a singular matrix at least one\\\\n\\\\n76\\\\n06:19.140 --> 06:22.110\\\\neigenvalues value is going to be equal to zero.\\\\n\\\\n77\\\\n06:22.170 --> 06:30.450\\\\nAnd in fact the number of eigenvalues that are equal to zero tells you about the rank of this matrix.\\\\n\\\\n78\\\\n06:30.490 --> 06:33.870\\\\nMore on that in the later video.\\\\n\\\\n79\\\\n06:33.880 --> 06:39.160\\\\nNow once you\\'ve gotten to this step you can further factor this equation and you end up with the result\\\\n\\\\n80\\\\n06:39.160 --> 06:44.360\\\\nthat lambda equals zero lambda equals minus 1 and Lambda equals eleven.\\\\n\\\\n81\\\\n06:44.590 --> 06:50.110\\\\nSo you can probably guess that this is going to be the tricky I can value to compute the corresponding\\\\n\\\\n82\\\\n06:50.110 --> 06:55.600\\\\nI can vector of and this is the one that I got a little bit stuck with.\\\\n\\\\n83\\\\n06:55.600 --> 06:57.490\\\\nAnd so I used Matlab as a crutch.\\\\n\\\\n84\\\\n06:57.490 --> 06:58.540\\\\nI cheated a little bit.\\\\n\\\\n85\\\\n06:59.250 --> 07:01.500\\\\nOK so but let\\'s go through all of these.\\\\n\\\\n86\\\\n07:01.840 --> 07:07.840\\\\nSo we start with zero and now this is kind of a funny thing because we are shifting the matrix by zero\\\\n\\\\n87\\\\n07:08.200 --> 07:10.970\\\\nwhich actually means we\\'re not changing the matrix at all.\\\\n\\\\n88\\\\n07:11.140 --> 07:21.000\\\\nAnd that means that this matrix A already has a non-trivial null space even without doing any shifting.\\\\n\\\\n89\\\\n07:21.130 --> 07:28.010\\\\nSo this problem actually boils down to finding a vector in the null space or a basis for the null space.\\\\n\\\\n90\\\\n07:28.270 --> 07:35.380\\\\nEven without doing any shifting so based on what I just told you about how do I set up this matrix that\\\\n\\\\n91\\\\n07:35.660 --> 07:42.950\\\\ncolumn one plus column two equals column three a basis for the null space is 1 one minus 1.\\\\n\\\\n92\\\\n07:42.970 --> 07:49.130\\\\nSo you can try for each of these rows the first column plus the second column minus the third column\\\\n\\\\n93\\\\n07:49.220 --> 07:52.090\\\\nequals zero all right.\\\\n\\\\n94\\\\n07:52.100 --> 07:53.270\\\\nSo now let\\'s move on.\\\\n\\\\n95\\\\n07:53.270 --> 07:59.350\\\\nSo now we shift this matrix by eleven and this is basically where I got stuck and switch to matlab.\\\\n\\\\n96\\\\n07:59.360 --> 08:04.570\\\\nSo it turns out that eigenvector is nineteen forty one and thirty six.\\\\n\\\\n97\\\\n08:04.580 --> 08:10.430\\\\nSo if you figured out this I can vector on your own without using a computer then good for you you are\\\\n\\\\n98\\\\n08:10.460 --> 08:14.960\\\\na better or at least more patient mathematician than I am.\\\\n\\\\n99\\\\n08:15.200 --> 08:19.210\\\\nAnd then we get to the third eigenvalue which was minus one.\\\\n\\\\n100\\\\n08:19.220 --> 08:21.130\\\\nSo now that becomes plus one.\\\\n\\\\n101\\\\n08:21.230 --> 08:26.390\\\\nAnd here is that shifted matrix and this one you should be able to solve on your own.\\\\n\\\\n102\\\\n08:26.480 --> 08:28.810\\\\nIn fact it\\'s even easier than it looks.\\\\n\\\\n103\\\\n08:28.820 --> 08:35.930\\\\nAnd if you need a hint before I show the answer then the hint is just consider that this third column\\\\n\\\\n104\\\\n08:36.020 --> 08:42.340\\\\nis actually pretty useless if you get rid of this third column it becomes really easy to find the \\\\n\\\\n105\\\\n08:42.380 --> 08:46.520\\\\neigenvector in this shifted matrices null space.\\\\n\\\\n106\\\\n08:46.790 --> 08:52.400\\\\nSo in fact it\\'s one minus one and then zero you just set the third element to be zero.\\\\n\\\\n107\\\\n08:52.670 --> 08:59.810\\\\nSo that leads us to the big picture overview of the eigendecomposition of this three by three singular\\\\n\\\\n108\\\\n08:59.810 --> 09:06.130\\\\nmatrix rank 2 matrix we have eigenvalues 0 minus 11 and minus 1.\\\\n\\\\n109\\\\n09:06.200 --> 09:09.200\\\\nAnd these are the corresponding eigenvectors.\\\\n\\\\n110\\\\n09:09.200 --> 09:12.430\\\\nAnd notice I\\'ve written them as row vectors and then transpose.\\\\n\\\\n111\\\\n09:12.430 --> 09:19.160\\\\nSo these are still column vectors we generally always think about eigenvectors as column vectors and\\\\n\\\\n112\\\\n09:19.160 --> 09:25.640\\\\nyou will learn more about why that is the case in the video on diagonalization, which is coming up soon.\"'"
            ],
            "application/vnd.google.colaboratory.intrinsic+json": {
              "type": "string"
            }
          },
          "metadata": {},
          "execution_count": 12
        }
      ],
      "source": [
        "# let's see if it works!\n",
        "\n",
        "regex_timestamps.sub(' ',text)"
      ]
    },
    {
      "cell_type": "code",
      "execution_count": 13,
      "metadata": {
        "id": "7zjfFlxyp-zk"
      },
      "outputs": [],
      "source": [
        "# optional repeats of the number\n",
        "pattern2replace = r'\\\\n\\\\n\\d{1,3}\\\\n\\d\\d:\\d\\d.\\d\\d\\d --> \\d\\d:\\d\\d.\\d\\d\\d\\\\n'\n",
        "\n",
        "regex_timestamps = re.compile('%s'%pattern2replace)\n",
        "regex_timestamps.findall(text)\n",
        "\n",
        "newtext = regex_timestamps.sub(' ',text)"
      ]
    },
    {
      "cell_type": "code",
      "execution_count": 14,
      "metadata": {
        "id": "ESg7tsK9fBde",
        "colab": {
          "base_uri": "https://localhost:8080/"
        },
        "outputId": "9e6ccf5f-df46-4afa-cab2-c1542b2fb7e3"
      },
      "outputs": [
        {
          "output_type": "stream",
          "name": "stdout",
          "text": [
            "b\"WEBVTT I'm now going to give you two more example problems of computing. eigendecomposition of matrices by hand. Obviously this is on the computer but I encourage you to do these problems by hand and they're not done in Matlab. So I guess that's what it means by hand. So let's get started. Here is a two by two matrix and you should pause the video go through find the eigenvalues and the eigenvectors of this matrix so the way we start is by shifting the matrix by Lambda so subtracting lambda from the diagonal elements setting the determinant equal to zero and then proceeding to compute the determinant which is also called the characteristic equation of this matrix. So that works out to be three minus lambda times six minus lambda minus four equals zero and then expanding these two terms multiplying out these two terms and then collecting the like terms gives us lambda squared minus nine lambda plus fourteen equals zero and then this expression here can be factored into lambda minus seven and Lambda minus two and now it's pretty easy to see that the two lambdas that will solve this equation that solve this equation. In other words the two eigenvalues of this matrix are plus 7 and plus two. So that was step one we found the eigenvalues of this matrix and now we go through for each of these eigenvalues shift the matrix by that amount by that value and then figure out what is a vector in the shifted matrices null space. OK so let's start with 2. So this gives us the matrix 1 1 4 4. And now we want to find the missing vector here and you've probably guessed it already it is 1 minus 1. And of course you know that also acceptable would be minus 1 1 or minus quadrillion plus quadrillion. This vector simply identifies a subspace for the null space of this shifted matrix in any vector that's in that null space is perfectly fine as an eigenvector. Now that said the best choice for an eigenvector would be a vector that has a norm of 1 a magnitude of 1. And the second best choice would be integer values that are easy to interpret and compact to write like this. All right. So this was for two. Now we go to the second eigenvalues which was seven and that gives us this matrix minus 4 1 and 4 minus 1. And here a vector that could work as an eigenvector as a basis for the null space of this shifted matrix is the numbers 1 4. So here is the big picture overview we have this matrix and here you see the eigenvalue and its corresponding eigenvector and the other eigenvalue and the other corresponding eigenvector. Now your results will be correct. If you have the correct pairing of eigenvalue and any multiple any scaled version of this vector; it doesn't matter if you call this lambda one and this V one that's fine because there's no intrinsic ordering. What matters is that you have the pairing correct. All right. So that was the two by two case. Now let's go for a three by three case. This one is a little bit more challenging and I have to admit. So I first came up with these numbers and then I started computing the eigendecomposition. Now I have to admit that I got stuck on one of the eigenvectors. I couldn't quite figure it out on my own. So I used Matlab to compute that eigenvector. So what I encourage you to do is find all three eigenvalues by hand and I think it will be pretty obvious when you start working through it which is the difficult eigenvalue. So then what you should do by hand is find two of the eigenvectors that you can get basically just by kind of eyeballing and making some educated guesses. And then the third eigenvector you can use a computer to solve or you can just wait and watch me come up with a solution. All right. So again we start by shifting this matrix by minus lambda setting the determinant equal to zero and then proceeding to compute the determinant of this equation and altogether that gives us the characteristic equation of this matrix. Now this is a little bit longer. It's a little bit trickier the arithmetic gets a little bit hairy in particular you end up with this minus lambda cubed term as well as a couple of multiple terms with Lambda and Lambda squared. Now once you collect all of these like terms you'll end up with an expression that looks like this. So it should be minus lambda cubed plus 10 times lambda squared plus eleven lambda equals zero Now something interesting has happened here all of these terms have a lambda attached to them which means that we can take a lambda out of each of these terms and rewrite this expression as minus lambda times. All of this stuff and immediately that tells us that lambda equals zero is a solution. So when you set this lambda to be zero it doesn't actually matter what's inside this parenthetical statement that's immediately going to set to make this equation true. That means that one of the eigenvalues of this matrix is zero and I'm going to have an entire video just about this phenomenon a little bit later in this section. But essentially when an eigenvector is an eigenvalue is zero. It means that the matrix is singular and that you can actually see by looking at this matrix and you see that column 1 plus column 2 equals column 3 so whenever you have a singular matrix at least one eigenvalues value is going to be equal to zero. And in fact the number of eigenvalues that are equal to zero tells you about the rank of this matrix. More on that in the later video. Now once you've gotten to this step you can further factor this equation and you end up with the result that lambda equals zero lambda equals minus 1 and Lambda equals eleven. So you can probably guess that this is going to be the tricky I can value to compute the corresponding I can vector of and this is the one that I got a little bit stuck with. And so I used Matlab as a crutch. I cheated a little bit. OK so but let's go through all of these. So we start with zero and now this is kind of a funny thing because we are shifting the matrix by zero which actually means we're not changing the matrix at all. And that means that this matrix A already has a non-trivial null space even without doing any shifting. So this problem actually boils down to finding a vector in the null space or a basis for the null space. Even without doing any shifting so based on what I just told you about how do I set up this matrix that column one plus column two equals column three a basis for the null space is 1 one minus 1. So you can try for each of these rows the first column plus the second column minus the third column equals zero all right. So now let's move on. So now we shift this matrix by eleven and this is basically where I got stuck and switch to matlab. So it turns out that eigenvector is nineteen forty one and thirty six. So if you figured out this I can vector on your own without using a computer then good for you you are a better or at least more patient mathematician than I am. And then we get to the third eigenvalue which was minus one. So now that becomes plus one. And here is that shifted matrix and this one you should be able to solve on your own. In fact it's even easier than it looks. And if you need a hint before I show the answer then the hint is just consider that this third column is actually pretty useless if you get rid of this third column it becomes really easy to find the  eigenvector in this shifted matrices null space. So in fact it's one minus one and then zero you just set the third element to be zero. So that leads us to the big picture overview of the eigendecomposition of this three by three singular matrix rank 2 matrix we have eigenvalues 0 minus 11 and minus 1. And these are the corresponding eigenvectors. And notice I've written them as row vectors and then transpose. So these are still column vectors we generally always think about eigenvectors as column vectors and you will learn more about why that is the case in the video on diagonalization, which is coming up soon.\"\n",
            " \n",
            "I'm now going to give you two more example problems of computing. eigendecomposition of matrices by hand. Obviously this is on the computer but I encourage you to do these problems by hand and they're not done in Matlab. So I guess that's what it means by hand. So let's get started. Here is a two by two matrix and you should pause the video go through find the eigenvalues and the eigenvectors of this matrix so the way we start is by shifting the matrix by Lambda so subtracting lambda from the diagonal elements setting the determinant equal to zero and then proceeding to compute the determinant which is also called the characteristic equation of this matrix. So that works out to be three minus lambda times six minus lambda minus four equals zero and then expanding these two terms multiplying out these two terms and then collecting the like terms gives us lambda squared minus nine lambda plus fourteen equals zero and then this expression here can be factored into lambda minus seven and Lambda minus two and now it's pretty easy to see that the two lambdas that will solve this equation that solve this equation. In other words the two eigenvalues of this matrix are plus 7 and plus two. So that was step one we found the eigenvalues of this matrix and now we go through for each of these eigenvalues shift the matrix by that amount by that value and then figure out what is a vector in the shifted matrices null space. OK so let's start with 2. So this gives us the matrix 1 1 4 4. And now we want to find the missing vector here and you've probably guessed it already it is 1 minus 1. And of course you know that also acceptable would be minus 1 1 or minus quadrillion plus quadrillion. This vector simply identifies a subspace for the null space of this shifted matrix in any vector that's in that null space is perfectly fine as an eigenvector. Now that said the best choice for an eigenvector would be a vector that has a norm of 1 a magnitude of 1. And the second best choice would be integer values that are easy to interpret and compact to write like this. All right. So this was for two. Now we go to the second eigenvalues which was seven and that gives us this matrix minus 4 1 and 4 minus 1. And here a vector that could work as an eigenvector as a basis for the null space of this shifted matrix is the numbers 1 4. So here is the big picture overview we have this matrix and here you see the eigenvalue and its corresponding eigenvector and the other eigenvalue and the other corresponding eigenvector. Now your results will be correct. If you have the correct pairing of eigenvalue and any multiple any scaled version of this vector; it doesn't matter if you call this lambda one and this V one that's fine because there's no intrinsic ordering. What matters is that you have the pairing correct. All right. So that was the two by two case. Now let's go for a three by three case. This one is a little bit more challenging and I have to admit. So I first came up with these numbers and then I started computing the eigendecomposition. Now I have to admit that I got stuck on one of the eigenvectors. I couldn't quite figure it out on my own. So I used Matlab to compute that eigenvector. So what I encourage you to do is find all three eigenvalues by hand and I think it will be pretty obvious when you start working through it which is the difficult eigenvalue. So then what you should do by hand is find two of the eigenvectors that you can get basically just by kind of eyeballing and making some educated guesses. And then the third eigenvector you can use a computer to solve or you can just wait and watch me come up with a solution. All right. So again we start by shifting this matrix by minus lambda setting the determinant equal to zero and then proceeding to compute the determinant of this equation and altogether that gives us the characteristic equation of this matrix. Now this is a little bit longer. It's a little bit trickier the arithmetic gets a little bit hairy in particular you end up with this minus lambda cubed term as well as a couple of multiple terms with Lambda and Lambda squared. Now once you collect all of these like terms you'll end up with an expression that looks like this. So it should be minus lambda cubed plus 10 times lambda squared plus eleven lambda equals zero Now something interesting has happened here all of these terms have a lambda attached to them which means that we can take a lambda out of each of these terms and rewrite this expression as minus lambda times. All of this stuff and immediately that tells us that lambda equals zero is a solution. So when you set this lambda to be zero it doesn't actually matter what's inside this parenthetical statement that's immediately going to set to make this equation true. That means that one of the eigenvalues of this matrix is zero and I'm going to have an entire video just about this phenomenon a little bit later in this section. But essentially when an eigenvector is an eigenvalue is zero. It means that the matrix is singular and that you can actually see by looking at this matrix and you see that column 1 plus column 2 equals column 3 so whenever you have a singular matrix at least one eigenvalues value is going to be equal to zero. And in fact the number of eigenvalues that are equal to zero tells you about the rank of this matrix. More on that in the later video. Now once you've gotten to this step you can further factor this equation and you end up with the result that lambda equals zero lambda equals minus 1 and Lambda equals eleven. So you can probably guess that this is going to be the tricky I can value to compute the corresponding I can vector of and this is the one that I got a little bit stuck with. And so I used Matlab as a crutch. I cheated a little bit. OK so but let's go through all of these. So we start with zero and now this is kind of a funny thing because we are shifting the matrix by zero which actually means we're not changing the matrix at all. And that means that this matrix A already has a non-trivial null space even without doing any shifting. So this problem actually boils down to finding a vector in the null space or a basis for the null space. Even without doing any shifting so based on what I just told you about how do I set up this matrix that column one plus column two equals column three a basis for the null space is 1 one minus 1. So you can try for each of these rows the first column plus the second column minus the third column equals zero all right. So now let's move on. So now we shift this matrix by eleven and this is basically where I got stuck and switch to matlab. So it turns out that eigenvector is nineteen forty one and thirty six. So if you figured out this I can vector on your own without using a computer then good for you you are a better or at least more patient mathematician than I am. And then we get to the third eigenvalue which was minus one. So now that becomes plus one. And here is that shifted matrix and this one you should be able to solve on your own. In fact it's even easier than it looks. And if you need a hint before I show the answer then the hint is just consider that this third column is actually pretty useless if you get rid of this third column it becomes really easy to find the  eigenvector in this shifted matrices null space. So in fact it's one minus one and then zero you just set the third element to be zero. So that leads us to the big picture overview of the eigendecomposition of this three by three singular matrix rank 2 matrix we have eigenvalues 0 minus 11 and minus 1. And these are the corresponding eigenvectors. And notice I've written them as row vectors and then transpose. So these are still column vectors we generally always think about eigenvectors as column vectors and you will learn more about why that is the case in the video on diagonalization, which is coming up soon\n"
          ]
        }
      ],
      "source": [
        "print(newtext)\n",
        "newtext = newtext[9:-2]\n",
        "print(' ')\n",
        "print(newtext)"
      ]
    },
    {
      "cell_type": "code",
      "execution_count": null,
      "metadata": {
        "id": "eicYTOb1-svq"
      },
      "outputs": [],
      "source": [
        "newtext"
      ]
    },
    {
      "cell_type": "markdown",
      "metadata": {
        "id": "UnWVkgjNAS0W"
      },
      "source": [
        "# Replace 4-letter words and save to disk"
      ]
    },
    {
      "cell_type": "code",
      "execution_count": 15,
      "metadata": {
        "id": "XYk7QPxjr7qy",
        "colab": {
          "base_uri": "https://localhost:8080/"
        },
        "outputId": "e6782821-f23d-4b29-8c3d-37661bc89d55"
      },
      "outputs": [
        {
          "output_type": "stream",
          "name": "stdout",
          "text": [
            "<class 'list'>\n",
            "1498\n"
          ]
        },
        {
          "output_type": "execute_result",
          "data": {
            "text/plain": [
              "[\"I'm\",\n",
              " 'now',\n",
              " 'going',\n",
              " 'to',\n",
              " 'give',\n",
              " 'you',\n",
              " 'two',\n",
              " 'more',\n",
              " 'example',\n",
              " 'problems',\n",
              " 'of',\n",
              " 'computing.',\n",
              " 'eigendecomposition',\n",
              " 'of',\n",
              " 'matrices',\n",
              " 'by',\n",
              " 'hand.',\n",
              " 'Obviously',\n",
              " 'this',\n",
              " 'is',\n",
              " 'on',\n",
              " 'the',\n",
              " 'computer',\n",
              " 'but',\n",
              " 'I',\n",
              " 'encourage',\n",
              " 'you',\n",
              " 'to',\n",
              " 'do',\n",
              " 'these']"
            ]
          },
          "metadata": {},
          "execution_count": 15
        }
      ],
      "source": [
        "# convert to words\n",
        "words = newtext.split()\n",
        "\n",
        "print(type(words))\n",
        "print(len(words))\n",
        "words[:30]"
      ]
    },
    {
      "cell_type": "code",
      "execution_count": 16,
      "metadata": {
        "id": "1AroQEgXgtYl",
        "colab": {
          "base_uri": "https://localhost:8080/"
        },
        "outputId": "da9650a0-f573-4003-ff49-bbac77cf61e8"
      },
      "outputs": [
        {
          "output_type": "execute_result",
          "data": {
            "text/plain": [
              "[\"I'm\",\n",
              " 'now',\n",
              " 'going',\n",
              " 'to',\n",
              " 'g***',\n",
              " 'you',\n",
              " 'two',\n",
              " 'm***',\n",
              " 'example',\n",
              " 'problems',\n",
              " 'of',\n",
              " 'computing.',\n",
              " 'eigendecomposition',\n",
              " 'of',\n",
              " 'matrices',\n",
              " 'by',\n",
              " 'hand.',\n",
              " 'Obviously',\n",
              " 't***',\n",
              " 'is',\n",
              " 'on',\n",
              " 'the',\n",
              " 'computer',\n",
              " 'but',\n",
              " 'I',\n",
              " 'encourage',\n",
              " 'you',\n",
              " 'to',\n",
              " 'do',\n",
              " 'these',\n",
              " 'problems',\n",
              " 'by',\n",
              " 'h***',\n",
              " 'and',\n",
              " \"they're\",\n",
              " 'not',\n",
              " 'd***',\n",
              " 'in',\n",
              " 'Matlab.',\n",
              " 'So',\n",
              " 'I',\n",
              " 'guess',\n",
              " \"that's\",\n",
              " 'w***',\n",
              " 'it',\n",
              " 'means',\n",
              " 'by',\n",
              " 'hand.',\n",
              " 'So',\n",
              " \"let's\",\n",
              " 'get',\n",
              " 'started.',\n",
              " 'H***',\n",
              " 'is',\n",
              " 'a',\n",
              " 'two',\n",
              " 'by',\n",
              " 'two',\n",
              " 'matrix',\n",
              " 'and',\n",
              " 'you',\n",
              " 'should',\n",
              " 'pause',\n",
              " 'the',\n",
              " 'video',\n",
              " 'go',\n",
              " 'through',\n",
              " 'f***',\n",
              " 'the',\n",
              " 'eigenvalues',\n",
              " 'and',\n",
              " 'the',\n",
              " 'eigenvectors',\n",
              " 'of',\n",
              " 't***',\n",
              " 'matrix',\n",
              " 'so',\n",
              " 'the',\n",
              " 'way',\n",
              " 'we',\n",
              " 'start',\n",
              " 'is',\n",
              " 'by',\n",
              " 'shifting',\n",
              " 'the',\n",
              " 'matrix',\n",
              " 'by',\n",
              " 'Lambda',\n",
              " 'so',\n",
              " 'subtracting',\n",
              " 'lambda',\n",
              " 'f***',\n",
              " 'the',\n",
              " 'diagonal',\n",
              " 'elements',\n",
              " 'setting',\n",
              " 'the',\n",
              " 'determinant',\n",
              " 'equal',\n",
              " 'to',\n",
              " 'z***',\n",
              " 'and',\n",
              " 't***',\n",
              " 'proceeding',\n",
              " 'to',\n",
              " 'compute',\n",
              " 'the',\n",
              " 'determinant',\n",
              " 'which',\n",
              " 'is',\n",
              " 'a***',\n",
              " 'called',\n",
              " 'the',\n",
              " 'characteristic',\n",
              " 'equation',\n",
              " 'of',\n",
              " 't***',\n",
              " 'matrix.',\n",
              " 'So',\n",
              " 't***',\n",
              " 'works',\n",
              " 'out',\n",
              " 'to',\n",
              " 'be',\n",
              " 'three',\n",
              " 'minus',\n",
              " 'lambda',\n",
              " 'times',\n",
              " 'six',\n",
              " 'minus',\n",
              " 'lambda',\n",
              " 'minus',\n",
              " 'f***',\n",
              " 'equals',\n",
              " 'z***',\n",
              " 'and',\n",
              " 't***',\n",
              " 'expanding',\n",
              " 'these',\n",
              " 'two',\n",
              " 'terms',\n",
              " 'multiplying',\n",
              " 'out',\n",
              " 'these',\n",
              " 'two',\n",
              " 'terms',\n",
              " 'and',\n",
              " 't***',\n",
              " 'collecting',\n",
              " 'the',\n",
              " 'l***',\n",
              " 'terms',\n",
              " 'gives',\n",
              " 'us',\n",
              " 'lambda',\n",
              " 'squared',\n",
              " 'minus',\n",
              " 'n***',\n",
              " 'lambda',\n",
              " 'p***',\n",
              " 'fourteen',\n",
              " 'equals',\n",
              " 'z***',\n",
              " 'and',\n",
              " 't***',\n",
              " 't***',\n",
              " 'expression',\n",
              " 'h***',\n",
              " 'can',\n",
              " 'be',\n",
              " 'factored',\n",
              " 'i***',\n",
              " 'lambda',\n",
              " 'minus',\n",
              " 'seven',\n",
              " 'and',\n",
              " 'Lambda',\n",
              " 'minus',\n",
              " 'two',\n",
              " 'and',\n",
              " 'now',\n",
              " 'i***',\n",
              " 'pretty',\n",
              " 'e***',\n",
              " 'to',\n",
              " 'see',\n",
              " 't***',\n",
              " 'the',\n",
              " 'two',\n",
              " 'lambdas',\n",
              " 't***',\n",
              " 'w***',\n",
              " 'solve',\n",
              " 't***',\n",
              " 'equation',\n",
              " 't***',\n",
              " 'solve',\n",
              " 't***',\n",
              " 'equation.',\n",
              " 'In',\n",
              " 'other',\n",
              " 'words',\n",
              " 'the',\n",
              " 'two',\n",
              " 'eigenvalues',\n",
              " 'of',\n",
              " 't***',\n",
              " 'matrix',\n",
              " 'are',\n",
              " 'p***',\n",
              " '7',\n",
              " 'and',\n",
              " 'p***',\n",
              " 't***',\n",
              " 'So',\n",
              " 't***',\n",
              " 'was',\n",
              " 's***',\n",
              " 'one',\n",
              " 'we',\n",
              " 'found',\n",
              " 'the',\n",
              " 'eigenvalues',\n",
              " 'of',\n",
              " 't***',\n",
              " 'matrix',\n",
              " 'and',\n",
              " 'now',\n",
              " 'we',\n",
              " 'go',\n",
              " 'through',\n",
              " 'for',\n",
              " 'e***',\n",
              " 'of',\n",
              " 'these',\n",
              " 'eigenvalues',\n",
              " 'shift',\n",
              " 'the',\n",
              " 'matrix',\n",
              " 'by',\n",
              " 't***',\n",
              " 'amount',\n",
              " 'by',\n",
              " 't***',\n",
              " 'value',\n",
              " 'and',\n",
              " 't***',\n",
              " 'figure',\n",
              " 'out',\n",
              " 'w***',\n",
              " 'is',\n",
              " 'a',\n",
              " 'vector',\n",
              " 'in',\n",
              " 'the',\n",
              " 'shifted',\n",
              " 'matrices',\n",
              " 'n***',\n",
              " 'space.',\n",
              " 'OK',\n",
              " 'so',\n",
              " \"let's\",\n",
              " 'start',\n",
              " 'w***',\n",
              " '2.',\n",
              " 'So',\n",
              " 't***',\n",
              " 'gives',\n",
              " 'us',\n",
              " 'the',\n",
              " 'matrix',\n",
              " '1',\n",
              " '1',\n",
              " '4',\n",
              " '4.',\n",
              " 'And',\n",
              " 'now',\n",
              " 'we',\n",
              " 'w***',\n",
              " 'to',\n",
              " 'f***',\n",
              " 'the',\n",
              " 'missing',\n",
              " 'vector',\n",
              " 'h***',\n",
              " 'and',\n",
              " \"you've\",\n",
              " 'probably',\n",
              " 'guessed',\n",
              " 'it',\n",
              " 'already',\n",
              " 'it',\n",
              " 'is',\n",
              " '1',\n",
              " 'minus',\n",
              " '1.',\n",
              " 'And',\n",
              " 'of',\n",
              " 'course',\n",
              " 'you',\n",
              " 'k***',\n",
              " 't***',\n",
              " 'a***',\n",
              " 'acceptable',\n",
              " 'would',\n",
              " 'be',\n",
              " 'minus',\n",
              " '1',\n",
              " '1',\n",
              " 'or',\n",
              " 'minus',\n",
              " 'quadrillion',\n",
              " 'p***',\n",
              " 'quadrillion.',\n",
              " 'T***',\n",
              " 'vector',\n",
              " 'simply',\n",
              " 'identifies',\n",
              " 'a',\n",
              " 'subspace',\n",
              " 'for',\n",
              " 'the',\n",
              " 'n***',\n",
              " 'space',\n",
              " 'of',\n",
              " 't***',\n",
              " 'shifted',\n",
              " 'matrix',\n",
              " 'in',\n",
              " 'any',\n",
              " 'vector',\n",
              " \"that's\",\n",
              " 'in',\n",
              " 't***',\n",
              " 'n***',\n",
              " 'space',\n",
              " 'is',\n",
              " 'perfectly',\n",
              " 'f***',\n",
              " 'as',\n",
              " 'an',\n",
              " 'eigenvector.',\n",
              " 'Now',\n",
              " 't***',\n",
              " 's***',\n",
              " 'the',\n",
              " 'b***',\n",
              " 'choice',\n",
              " 'for',\n",
              " 'an',\n",
              " 'eigenvector',\n",
              " 'would',\n",
              " 'be',\n",
              " 'a',\n",
              " 'vector',\n",
              " 't***',\n",
              " 'has',\n",
              " 'a',\n",
              " 'n***',\n",
              " 'of',\n",
              " '1',\n",
              " 'a',\n",
              " 'magnitude',\n",
              " 'of',\n",
              " '1.',\n",
              " 'And',\n",
              " 'the',\n",
              " 'second',\n",
              " 'b***',\n",
              " 'choice',\n",
              " 'would',\n",
              " 'be',\n",
              " 'integer',\n",
              " 'values',\n",
              " 't***',\n",
              " 'are',\n",
              " 'e***',\n",
              " 'to',\n",
              " 'interpret',\n",
              " 'and',\n",
              " 'compact',\n",
              " 'to',\n",
              " 'write',\n",
              " 'l***',\n",
              " 'this.',\n",
              " 'All',\n",
              " 'right.',\n",
              " 'So',\n",
              " 't***',\n",
              " 'was',\n",
              " 'for',\n",
              " 't***',\n",
              " 'Now',\n",
              " 'we',\n",
              " 'go',\n",
              " 'to',\n",
              " 'the',\n",
              " 'second',\n",
              " 'eigenvalues',\n",
              " 'which',\n",
              " 'was',\n",
              " 'seven',\n",
              " 'and',\n",
              " 't***',\n",
              " 'gives',\n",
              " 'us',\n",
              " 't***',\n",
              " 'matrix',\n",
              " 'minus',\n",
              " '4',\n",
              " '1',\n",
              " 'and',\n",
              " '4',\n",
              " 'minus',\n",
              " '1.',\n",
              " 'And',\n",
              " 'h***',\n",
              " 'a',\n",
              " 'vector',\n",
              " 't***',\n",
              " 'could',\n",
              " 'w***',\n",
              " 'as',\n",
              " 'an',\n",
              " 'eigenvector',\n",
              " 'as',\n",
              " 'a',\n",
              " 'basis',\n",
              " 'for',\n",
              " 'the',\n",
              " 'n***',\n",
              " 'space',\n",
              " 'of',\n",
              " 't***',\n",
              " 'shifted',\n",
              " 'matrix',\n",
              " 'is',\n",
              " 'the',\n",
              " 'numbers',\n",
              " '1',\n",
              " '4.',\n",
              " 'So',\n",
              " 'h***',\n",
              " 'is',\n",
              " 'the',\n",
              " 'big',\n",
              " 'picture',\n",
              " 'overview',\n",
              " 'we',\n",
              " 'h***',\n",
              " 't***',\n",
              " 'matrix',\n",
              " 'and',\n",
              " 'h***',\n",
              " 'you',\n",
              " 'see',\n",
              " 'the',\n",
              " 'eigenvalue',\n",
              " 'and',\n",
              " 'its',\n",
              " 'corresponding',\n",
              " 'eigenvector',\n",
              " 'and',\n",
              " 'the',\n",
              " 'other',\n",
              " 'eigenvalue',\n",
              " 'and',\n",
              " 'the',\n",
              " 'other',\n",
              " 'corresponding',\n",
              " 'eigenvector.',\n",
              " 'Now',\n",
              " 'y***',\n",
              " 'results',\n",
              " 'w***',\n",
              " 'be',\n",
              " 'correct.',\n",
              " 'If',\n",
              " 'you',\n",
              " 'h***',\n",
              " 'the',\n",
              " 'correct',\n",
              " 'pairing',\n",
              " 'of',\n",
              " 'eigenvalue',\n",
              " 'and',\n",
              " 'any',\n",
              " 'multiple',\n",
              " 'any',\n",
              " 'scaled',\n",
              " 'version',\n",
              " 'of',\n",
              " 't***',\n",
              " 'vector;',\n",
              " 'it',\n",
              " \"doesn't\",\n",
              " 'matter',\n",
              " 'if',\n",
              " 'you',\n",
              " 'c***',\n",
              " 't***',\n",
              " 'lambda',\n",
              " 'one',\n",
              " 'and',\n",
              " 't***',\n",
              " 'V',\n",
              " 'one',\n",
              " \"that's\",\n",
              " 'f***',\n",
              " 'because',\n",
              " \"there's\",\n",
              " 'no',\n",
              " 'intrinsic',\n",
              " 'ordering.',\n",
              " 'W***',\n",
              " 'matters',\n",
              " 'is',\n",
              " 't***',\n",
              " 'you',\n",
              " 'h***',\n",
              " 'the',\n",
              " 'pairing',\n",
              " 'correct.',\n",
              " 'All',\n",
              " 'right.',\n",
              " 'So',\n",
              " 't***',\n",
              " 'was',\n",
              " 'the',\n",
              " 'two',\n",
              " 'by',\n",
              " 'two',\n",
              " 'case.',\n",
              " 'Now',\n",
              " \"let's\",\n",
              " 'go',\n",
              " 'for',\n",
              " 'a',\n",
              " 'three',\n",
              " 'by',\n",
              " 'three',\n",
              " 'case.',\n",
              " 'T***',\n",
              " 'one',\n",
              " 'is',\n",
              " 'a',\n",
              " 'little',\n",
              " 'bit',\n",
              " 'm***',\n",
              " 'challenging',\n",
              " 'and',\n",
              " 'I',\n",
              " 'h***',\n",
              " 'to',\n",
              " 'admit.',\n",
              " 'So',\n",
              " 'I',\n",
              " 'first',\n",
              " 'c***',\n",
              " 'up',\n",
              " 'w***',\n",
              " 'these',\n",
              " 'numbers',\n",
              " 'and',\n",
              " 't***',\n",
              " 'I',\n",
              " 'started',\n",
              " 'computing',\n",
              " 'the',\n",
              " 'eigendecomposition.',\n",
              " 'Now',\n",
              " 'I',\n",
              " 'h***',\n",
              " 'to',\n",
              " 'admit',\n",
              " 't***',\n",
              " 'I',\n",
              " 'got',\n",
              " 'stuck',\n",
              " 'on',\n",
              " 'one',\n",
              " 'of',\n",
              " 'the',\n",
              " 'eigenvectors.',\n",
              " 'I',\n",
              " \"couldn't\",\n",
              " 'quite',\n",
              " 'figure',\n",
              " 'it',\n",
              " 'out',\n",
              " 'on',\n",
              " 'my',\n",
              " 'o***',\n",
              " 'So',\n",
              " 'I',\n",
              " 'u***',\n",
              " 'Matlab',\n",
              " 'to',\n",
              " 'compute',\n",
              " 't***',\n",
              " 'eigenvector.',\n",
              " 'So',\n",
              " 'w***',\n",
              " 'I',\n",
              " 'encourage',\n",
              " 'you',\n",
              " 'to',\n",
              " 'do',\n",
              " 'is',\n",
              " 'f***',\n",
              " 'all',\n",
              " 'three',\n",
              " 'eigenvalues',\n",
              " 'by',\n",
              " 'h***',\n",
              " 'and',\n",
              " 'I',\n",
              " 'think',\n",
              " 'it',\n",
              " 'w***',\n",
              " 'be',\n",
              " 'pretty',\n",
              " 'obvious',\n",
              " 'w***',\n",
              " 'you',\n",
              " 'start',\n",
              " 'working',\n",
              " 'through',\n",
              " 'it',\n",
              " 'which',\n",
              " 'is',\n",
              " 'the',\n",
              " 'difficult',\n",
              " 'eigenvalue.',\n",
              " 'So',\n",
              " 't***',\n",
              " 'w***',\n",
              " 'you',\n",
              " 'should',\n",
              " 'do',\n",
              " 'by',\n",
              " 'h***',\n",
              " 'is',\n",
              " 'f***',\n",
              " 'two',\n",
              " 'of',\n",
              " 'the',\n",
              " 'eigenvectors',\n",
              " 't***',\n",
              " 'you',\n",
              " 'can',\n",
              " 'get',\n",
              " 'basically',\n",
              " 'j***',\n",
              " 'by',\n",
              " 'k***',\n",
              " 'of',\n",
              " 'eyeballing',\n",
              " 'and',\n",
              " 'making',\n",
              " 's***',\n",
              " 'educated',\n",
              " 'guesses.',\n",
              " 'And',\n",
              " 't***',\n",
              " 'the',\n",
              " 'third',\n",
              " 'eigenvector',\n",
              " 'you',\n",
              " 'can',\n",
              " 'use',\n",
              " 'a',\n",
              " 'computer',\n",
              " 'to',\n",
              " 'solve',\n",
              " 'or',\n",
              " 'you',\n",
              " 'can',\n",
              " 'j***',\n",
              " 'w***',\n",
              " 'and',\n",
              " 'watch',\n",
              " 'me',\n",
              " 'c***',\n",
              " 'up',\n",
              " 'w***',\n",
              " 'a',\n",
              " 'solution.',\n",
              " 'All',\n",
              " 'right.',\n",
              " 'So',\n",
              " 'again',\n",
              " 'we',\n",
              " 'start',\n",
              " 'by',\n",
              " 'shifting',\n",
              " 't***',\n",
              " 'matrix',\n",
              " 'by',\n",
              " 'minus',\n",
              " 'lambda',\n",
              " 'setting',\n",
              " 'the',\n",
              " 'determinant',\n",
              " 'equal',\n",
              " 'to',\n",
              " 'z***',\n",
              " 'and',\n",
              " 't***',\n",
              " 'proceeding',\n",
              " 'to',\n",
              " 'compute',\n",
              " 'the',\n",
              " 'determinant',\n",
              " 'of',\n",
              " 't***',\n",
              " 'equation',\n",
              " 'and',\n",
              " 'altogether',\n",
              " 't***',\n",
              " 'gives',\n",
              " 'us',\n",
              " 'the',\n",
              " 'characteristic',\n",
              " 'equation',\n",
              " 'of',\n",
              " 't***',\n",
              " 'matrix.',\n",
              " 'Now',\n",
              " 't***',\n",
              " 'is',\n",
              " 'a',\n",
              " 'little',\n",
              " 'bit',\n",
              " 'longer.',\n",
              " 'I***',\n",
              " 'a',\n",
              " 'little',\n",
              " 'bit',\n",
              " 'trickier',\n",
              " 'the',\n",
              " 'arithmetic',\n",
              " 'g***',\n",
              " 'a',\n",
              " 'little',\n",
              " 'bit',\n",
              " 'hairy',\n",
              " 'in',\n",
              " 'particular',\n",
              " 'you',\n",
              " 'end',\n",
              " 'up',\n",
              " 'w***',\n",
              " 't***',\n",
              " 'minus',\n",
              " 'lambda',\n",
              " 'cubed',\n",
              " 't***',\n",
              " 'as',\n",
              " 'w***',\n",
              " 'as',\n",
              " 'a',\n",
              " 'couple',\n",
              " 'of',\n",
              " 'multiple',\n",
              " 'terms',\n",
              " 'w***',\n",
              " 'Lambda',\n",
              " 'and',\n",
              " 'Lambda',\n",
              " 'squared.',\n",
              " 'Now',\n",
              " 'o***',\n",
              " 'you',\n",
              " 'collect',\n",
              " 'all',\n",
              " 'of',\n",
              " 'these',\n",
              " 'l***',\n",
              " 'terms',\n",
              " \"you'll\",\n",
              " 'end',\n",
              " 'up',\n",
              " 'w***',\n",
              " 'an',\n",
              " 'expression',\n",
              " 't***',\n",
              " 'looks',\n",
              " 'l***',\n",
              " 'this.',\n",
              " 'So',\n",
              " 'it',\n",
              " 'should',\n",
              " 'be',\n",
              " 'minus',\n",
              " 'lambda',\n",
              " 'cubed',\n",
              " 'p***',\n",
              " '10',\n",
              " 'times',\n",
              " 'lambda',\n",
              " 'squared',\n",
              " 'p***',\n",
              " 'eleven',\n",
              " 'lambda',\n",
              " 'equals',\n",
              " 'z***',\n",
              " 'Now',\n",
              " 'something',\n",
              " 'interesting',\n",
              " 'has',\n",
              " 'happened',\n",
              " 'h***',\n",
              " 'all',\n",
              " 'of',\n",
              " 'these',\n",
              " 'terms',\n",
              " 'h***',\n",
              " 'a',\n",
              " 'lambda',\n",
              " 'attached',\n",
              " 'to',\n",
              " 't***',\n",
              " 'which',\n",
              " 'means',\n",
              " 't***',\n",
              " 'we',\n",
              " 'can',\n",
              " 't***',\n",
              " 'a',\n",
              " 'lambda',\n",
              " 'out',\n",
              " 'of',\n",
              " 'e***',\n",
              " 'of',\n",
              " 'these',\n",
              " 'terms',\n",
              " 'and',\n",
              " 'rewrite',\n",
              " 't***',\n",
              " 'expression',\n",
              " 'as',\n",
              " 'minus',\n",
              " 'lambda',\n",
              " 'times.',\n",
              " 'All',\n",
              " 'of',\n",
              " 't***',\n",
              " 'stuff',\n",
              " 'and',\n",
              " 'immediately',\n",
              " 't***',\n",
              " 'tells',\n",
              " 'us',\n",
              " 't***',\n",
              " 'lambda',\n",
              " 'equals',\n",
              " 'z***',\n",
              " 'is',\n",
              " 'a',\n",
              " 'solution.',\n",
              " 'So',\n",
              " 'w***',\n",
              " 'you',\n",
              " 'set',\n",
              " 't***',\n",
              " 'lambda',\n",
              " 'to',\n",
              " 'be',\n",
              " 'z***',\n",
              " 'it',\n",
              " \"doesn't\",\n",
              " 'actually',\n",
              " 'matter',\n",
              " \"what's\",\n",
              " 'inside',\n",
              " 't***',\n",
              " 'parenthetical',\n",
              " 'statement',\n",
              " \"that's\",\n",
              " 'immediately',\n",
              " 'going',\n",
              " 'to',\n",
              " 'set',\n",
              " 'to',\n",
              " 'm***',\n",
              " 't***',\n",
              " 'equation',\n",
              " 'true.',\n",
              " 'T***',\n",
              " 'means',\n",
              " 't***',\n",
              " 'one',\n",
              " 'of',\n",
              " 'the',\n",
              " 'eigenvalues',\n",
              " 'of',\n",
              " 't***',\n",
              " 'matrix',\n",
              " 'is',\n",
              " 'z***',\n",
              " 'and',\n",
              " \"I'm\",\n",
              " 'going',\n",
              " 'to',\n",
              " 'h***',\n",
              " 'an',\n",
              " 'entire',\n",
              " 'video',\n",
              " 'j***',\n",
              " 'about',\n",
              " 't***',\n",
              " 'phenomenon',\n",
              " 'a',\n",
              " 'little',\n",
              " 'bit',\n",
              " 'later',\n",
              " 'in',\n",
              " 't***',\n",
              " 'section.',\n",
              " 'But',\n",
              " 'essentially',\n",
              " 'w***',\n",
              " 'an',\n",
              " 'eigenvector',\n",
              " 'is',\n",
              " 'an',\n",
              " 'eigenvalue',\n",
              " 'is',\n",
              " 'zero.',\n",
              " 'It',\n",
              " 'means',\n",
              " 't***',\n",
              " 'the',\n",
              " 'matrix',\n",
              " 'is',\n",
              " 'singular',\n",
              " 'and',\n",
              " 't***',\n",
              " 'you',\n",
              " 'can',\n",
              " 'actually',\n",
              " 'see',\n",
              " 'by',\n",
              " 'looking',\n",
              " 'at',\n",
              " 't***',\n",
              " 'matrix',\n",
              " 'and',\n",
              " 'you',\n",
              " 'see',\n",
              " 't***',\n",
              " 'column',\n",
              " '1',\n",
              " 'p***',\n",
              " 'column',\n",
              " '2',\n",
              " 'equals',\n",
              " 'column',\n",
              " '3',\n",
              " 'so',\n",
              " 'whenever',\n",
              " 'you',\n",
              " 'h***',\n",
              " 'a',\n",
              " 'singular',\n",
              " 'matrix',\n",
              " 'at',\n",
              " 'least',\n",
              " 'one',\n",
              " 'eigenvalues',\n",
              " 'value',\n",
              " 'is',\n",
              " 'going',\n",
              " 'to',\n",
              " 'be',\n",
              " 'equal',\n",
              " 'to',\n",
              " 'zero.',\n",
              " 'And',\n",
              " 'in',\n",
              " 'f***',\n",
              " 'the',\n",
              " 'number',\n",
              " 'of',\n",
              " 'eigenvalues',\n",
              " 't***',\n",
              " 'are',\n",
              " 'equal',\n",
              " 'to',\n",
              " 'z***',\n",
              " 'tells',\n",
              " 'you',\n",
              " 'about',\n",
              " 'the',\n",
              " 'r***',\n",
              " 'of',\n",
              " 't***',\n",
              " 'matrix.',\n",
              " 'M***',\n",
              " ...]"
            ]
          },
          "metadata": {},
          "execution_count": 16
        }
      ],
      "source": [
        "# count the number of letters in each word\n",
        "\n",
        "for wordi in range(len(words)):\n",
        "  if len(words[wordi])==4:\n",
        "    words[wordi] = words[wordi][0] + '***'\n",
        "\n",
        "words"
      ]
    },
    {
      "cell_type": "code",
      "execution_count": 17,
      "metadata": {
        "id": "Xngzuvi2jLIm",
        "colab": {
          "base_uri": "https://localhost:8080/",
          "height": 88
        },
        "outputId": "74d3f1cb-03e0-4d99-af05-412563f85535"
      },
      "outputs": [
        {
          "output_type": "execute_result",
          "data": {
            "text/plain": [
              "\"I'm now going to g*** you two m*** example problems of computing. eigendecomposition of matrices by hand. Obviously t*** is on the computer but I encourage you to do these problems by h*** and they're not d*** in Matlab. So I guess that's w*** it means by hand. So let's get started. H*** is a two by two matrix and you should pause the video go through f*** the eigenvalues and the eigenvectors of t*** matrix so the way we start is by shifting the matrix by Lambda so subtracting lambda f*** the diagonal elements setting the determinant equal to z*** and t*** proceeding to compute the determinant which is a*** called the characteristic equation of t*** matrix. So t*** works out to be three minus lambda times six minus lambda minus f*** equals z*** and t*** expanding these two terms multiplying out these two terms and t*** collecting the l*** terms gives us lambda squared minus n*** lambda p*** fourteen equals z*** and t*** t*** expression h*** can be factored i*** lambda minus seven and Lambda minus two and now i*** pretty e*** to see t*** the two lambdas t*** w*** solve t*** equation t*** solve t*** equation. In other words the two eigenvalues of t*** matrix are p*** 7 and p*** t*** So t*** was s*** one we found the eigenvalues of t*** matrix and now we go through for e*** of these eigenvalues shift the matrix by t*** amount by t*** value and t*** figure out w*** is a vector in the shifted matrices n*** space. OK so let's start w*** 2. So t*** gives us the matrix 1 1 4 4. And now we w*** to f*** the missing vector h*** and you've probably guessed it already it is 1 minus 1. And of course you k*** t*** a*** acceptable would be minus 1 1 or minus quadrillion p*** quadrillion. T*** vector simply identifies a subspace for the n*** space of t*** shifted matrix in any vector that's in t*** n*** space is perfectly f*** as an eigenvector. Now t*** s*** the b*** choice for an eigenvector would be a vector t*** has a n*** of 1 a magnitude of 1. And the second b*** choice would be integer values t*** are e*** to interpret and compact to write l*** this. All right. So t*** was for t*** Now we go to the second eigenvalues which was seven and t*** gives us t*** matrix minus 4 1 and 4 minus 1. And h*** a vector t*** could w*** as an eigenvector as a basis for the n*** space of t*** shifted matrix is the numbers 1 4. So h*** is the big picture overview we h*** t*** matrix and h*** you see the eigenvalue and its corresponding eigenvector and the other eigenvalue and the other corresponding eigenvector. Now y*** results w*** be correct. If you h*** the correct pairing of eigenvalue and any multiple any scaled version of t*** vector; it doesn't matter if you c*** t*** lambda one and t*** V one that's f*** because there's no intrinsic ordering. W*** matters is t*** you h*** the pairing correct. All right. So t*** was the two by two case. Now let's go for a three by three case. T*** one is a little bit m*** challenging and I h*** to admit. So I first c*** up w*** these numbers and t*** I started computing the eigendecomposition. Now I h*** to admit t*** I got stuck on one of the eigenvectors. I couldn't quite figure it out on my o*** So I u*** Matlab to compute t*** eigenvector. So w*** I encourage you to do is f*** all three eigenvalues by h*** and I think it w*** be pretty obvious w*** you start working through it which is the difficult eigenvalue. So t*** w*** you should do by h*** is f*** two of the eigenvectors t*** you can get basically j*** by k*** of eyeballing and making s*** educated guesses. And t*** the third eigenvector you can use a computer to solve or you can j*** w*** and watch me c*** up w*** a solution. All right. So again we start by shifting t*** matrix by minus lambda setting the determinant equal to z*** and t*** proceeding to compute the determinant of t*** equation and altogether t*** gives us the characteristic equation of t*** matrix. Now t*** is a little bit longer. I*** a little bit trickier the arithmetic g*** a little bit hairy in particular you end up w*** t*** minus lambda cubed t*** as w*** as a couple of multiple terms w*** Lambda and Lambda squared. Now o*** you collect all of these l*** terms you'll end up w*** an expression t*** looks l*** this. So it should be minus lambda cubed p*** 10 times lambda squared p*** eleven lambda equals z*** Now something interesting has happened h*** all of these terms h*** a lambda attached to t*** which means t*** we can t*** a lambda out of e*** of these terms and rewrite t*** expression as minus lambda times. All of t*** stuff and immediately t*** tells us t*** lambda equals z*** is a solution. So w*** you set t*** lambda to be z*** it doesn't actually matter what's inside t*** parenthetical statement that's immediately going to set to m*** t*** equation true. T*** means t*** one of the eigenvalues of t*** matrix is z*** and I'm going to h*** an entire video j*** about t*** phenomenon a little bit later in t*** section. But essentially w*** an eigenvector is an eigenvalue is zero. It means t*** the matrix is singular and t*** you can actually see by looking at t*** matrix and you see t*** column 1 p*** column 2 equals column 3 so whenever you h*** a singular matrix at least one eigenvalues value is going to be equal to zero. And in f*** the number of eigenvalues t*** are equal to z*** tells you about the r*** of t*** matrix. M*** on t*** in the later video. Now o*** you've gotten to t*** s*** you can further factor t*** equation and you end up w*** the result t*** lambda equals z*** lambda equals minus 1 and Lambda equals eleven. So you can probably guess t*** t*** is going to be the tricky I can value to compute the corresponding I can vector of and t*** is the one t*** I got a little bit stuck with. And so I u*** Matlab as a crutch. I cheated a little b*** OK so but let's go through all of these. So we start w*** z*** and now t*** is k*** of a funny thing because we are shifting the matrix by z*** which actually means we're not changing the matrix at a*** And t*** means t*** t*** matrix A already has a non-trivial n*** space e*** without doing any shifting. So t*** problem actually boils d*** to finding a vector in the n*** space or a basis for the n*** space. E*** without doing any shifting so based on w*** I j*** t*** you about how do I set up t*** matrix t*** column one p*** column two equals column three a basis for the n*** space is 1 one minus 1. So you can try for e*** of these r*** the first column p*** the second column minus the third column equals z*** all right. So now let's m*** on. So now we shift t*** matrix by eleven and t*** is basically where I got stuck and switch to matlab. So it turns out t*** eigenvector is nineteen forty one and thirty s*** So if you figured out t*** I can vector on y*** own without using a computer t*** g*** for you you are a better or at least m*** patient mathematician t*** I am. And t*** we get to the third eigenvalue which was minus o*** So now t*** becomes p*** o*** And h*** is t*** shifted matrix and t*** one you should be a*** to solve on y*** o*** In f*** i*** e*** easier t*** it looks. And if you n*** a h*** before I s*** the answer t*** the h*** is j*** consider t*** t*** third column is actually pretty useless if you get rid of t*** third column it becomes really e*** to f*** the eigenvector in t*** shifted matrices n*** space. So in f*** i*** one minus one and t*** z*** you j*** set the third element to be zero. So t*** leads us to the big picture overview of the eigendecomposition of t*** three by three singular matrix r*** 2 matrix we h*** eigenvalues 0 minus 11 and minus 1. And these are the corresponding eigenvectors. And notice I*** written t*** as row vectors and t*** transpose. So these are still column vectors we generally always think about eigenvectors as column vectors and you w*** learn m*** about why t*** is the c*** in the video on diagonalization, which is coming up s***\""
            ],
            "application/vnd.google.colaboratory.intrinsic+json": {
              "type": "string"
            }
          },
          "metadata": {},
          "execution_count": 17
        }
      ],
      "source": [
        "# put back together into one string\n",
        "\n",
        "cleantext = ' '.join(words)\n",
        "\n",
        "cleantext"
      ]
    },
    {
      "cell_type": "code",
      "execution_count": 18,
      "metadata": {
        "id": "4iFSa-pqjn6G",
        "colab": {
          "base_uri": "https://localhost:8080/",
          "height": 17
        },
        "outputId": "8865a282-9eaa-458e-edec-39dd1ccce5e6"
      },
      "outputs": [
        {
          "output_type": "display_data",
          "data": {
            "text/plain": [
              "<IPython.core.display.Javascript object>"
            ],
            "application/javascript": [
              "\n",
              "    async function download(id, filename, size) {\n",
              "      if (!google.colab.kernel.accessAllowed) {\n",
              "        return;\n",
              "      }\n",
              "      const div = document.createElement('div');\n",
              "      const label = document.createElement('label');\n",
              "      label.textContent = `Downloading \"${filename}\": `;\n",
              "      div.appendChild(label);\n",
              "      const progress = document.createElement('progress');\n",
              "      progress.max = size;\n",
              "      div.appendChild(progress);\n",
              "      document.body.appendChild(div);\n",
              "\n",
              "      const buffers = [];\n",
              "      let downloaded = 0;\n",
              "\n",
              "      const channel = await google.colab.kernel.comms.open(id);\n",
              "      // Send a message to notify the kernel that we're ready.\n",
              "      channel.send({})\n",
              "\n",
              "      for await (const message of channel.messages) {\n",
              "        // Send a message to notify the kernel that we're ready.\n",
              "        channel.send({})\n",
              "        if (message.buffers) {\n",
              "          for (const buffer of message.buffers) {\n",
              "            buffers.push(buffer);\n",
              "            downloaded += buffer.byteLength;\n",
              "            progress.value = downloaded;\n",
              "          }\n",
              "        }\n",
              "      }\n",
              "      const blob = new Blob(buffers, {type: 'application/binary'});\n",
              "      const a = document.createElement('a');\n",
              "      a.href = window.URL.createObjectURL(blob);\n",
              "      a.download = filename;\n",
              "      div.appendChild(a);\n",
              "      a.click();\n",
              "      div.remove();\n",
              "    }\n",
              "  "
            ]
          },
          "metadata": {}
        },
        {
          "output_type": "display_data",
          "data": {
            "text/plain": [
              "<IPython.core.display.Javascript object>"
            ],
            "application/javascript": [
              "download(\"download_51e15d8b-74da-4f1f-bec9-2ad31d55c39c\", \"clean_transcript.txt\", 7940)"
            ]
          },
          "metadata": {}
        }
      ],
      "source": [
        "# Save back to disk\n",
        "with open('clean_transcript.txt','w') as f:\n",
        "  f.write(cleantext)\n",
        "\n",
        "files.download('clean_transcript.txt')"
      ]
    },
    {
      "cell_type": "markdown",
      "metadata": {
        "id": "cEYUxH2OAizE"
      },
      "source": [
        "# Bonus: Readability of scrambled words"
      ]
    },
    {
      "cell_type": "code",
      "execution_count": 19,
      "metadata": {
        "id": "FyqGIL85mAW8"
      },
      "outputs": [],
      "source": [
        "# A sentence\n",
        "text = \"I have often wondered whether it's possible to read an entire book faster if the useless letters were removed.\"\n"
      ]
    },
    {
      "cell_type": "code",
      "execution_count": 20,
      "metadata": {
        "id": "f1hfXeOFnbXw",
        "colab": {
          "base_uri": "https://localhost:8080/"
        },
        "outputId": "73a52b64-3ccc-432c-d6f6-d3f6b128663b"
      },
      "outputs": [
        {
          "output_type": "execute_result",
          "data": {
            "text/plain": [
              "['I',\n",
              " 'have',\n",
              " 'often',\n",
              " 'wondered',\n",
              " 'whether',\n",
              " \"it's\",\n",
              " 'possible',\n",
              " 'to',\n",
              " 'read',\n",
              " 'an',\n",
              " 'entire',\n",
              " 'book',\n",
              " 'faster',\n",
              " 'if',\n",
              " 'the',\n",
              " 'useless',\n",
              " 'letters',\n",
              " 'were',\n",
              " 'removed.']"
            ]
          },
          "metadata": {},
          "execution_count": 20
        }
      ],
      "source": [
        "# randomly scramble all letters\n",
        "words = text.split()\n",
        "words"
      ]
    },
    {
      "cell_type": "code",
      "execution_count": 21,
      "metadata": {
        "id": "ILrxpFoAxpb3"
      },
      "outputs": [],
      "source": [
        "for wi in range(len(words)):\n",
        "  thisword = words[wi]\n",
        "  idx = np.random.permutation(len(thisword))\n",
        "  words[wi] = ''.join([thisword[i] for i in idx])\n"
      ]
    },
    {
      "cell_type": "code",
      "execution_count": 22,
      "metadata": {
        "id": "oEN_KfqvyJGe",
        "colab": {
          "base_uri": "https://localhost:8080/",
          "height": 36
        },
        "outputId": "1ce86ddc-22a0-46fd-d501-b30b41308799"
      },
      "outputs": [
        {
          "output_type": "execute_result",
          "data": {
            "text/plain": [
              "\"I eavh enoft oerndwde tweherh 'its plsebsio ot daer na iretne kobo eafrst fi eth slesesu ttleesr ewer m.rdoeve\""
            ],
            "application/vnd.google.colaboratory.intrinsic+json": {
              "type": "string"
            }
          },
          "metadata": {},
          "execution_count": 22
        }
      ],
      "source": [
        "' '.join(words)"
      ]
    },
    {
      "cell_type": "code",
      "execution_count": 23,
      "metadata": {
        "id": "kf1qIVsppfJz",
        "colab": {
          "base_uri": "https://localhost:8080/",
          "height": 36
        },
        "outputId": "4f17802f-8123-451c-d201-09d564ca5538"
      },
      "outputs": [
        {
          "output_type": "execute_result",
          "data": {
            "text/plain": [
              "\"I hvae oeftn werneodd weehhtr i'ts possilbe to read an etnire book fsetar if the ueeslss lterets were redmoev.\""
            ],
            "application/vnd.google.colaboratory.intrinsic+json": {
              "type": "string"
            }
          },
          "metadata": {},
          "execution_count": 23
        }
      ],
      "source": [
        "# scramble all letters except first and last (only words with >3 letters)\n",
        "\n",
        "# recover original\n",
        "words = text.split()\n",
        "\n",
        "# try again\n",
        "for wi in range(len(words)):\n",
        "  \n",
        "  # skip if too short\n",
        "  if len(words[wi])<4:\n",
        "    continue\n",
        "\n",
        "  # extract subword\n",
        "  thisword = words[wi][1:-1]\n",
        "  idx = np.random.permutation(len(thisword))\n",
        "  words[wi] = words[wi][0] + ''.join([thisword[i] for i in idx]) + words[wi][-1]\n",
        "\n",
        "' '.join(words)"
      ]
    },
    {
      "cell_type": "code",
      "execution_count": 24,
      "metadata": {
        "id": "USGdCKm3xUZo",
        "colab": {
          "base_uri": "https://localhost:8080/",
          "height": 36
        },
        "outputId": "6df88fbd-b51f-4fac-f458-12ba5474623f"
      },
      "outputs": [
        {
          "output_type": "execute_result",
          "data": {
            "text/plain": [
              "'I hxqe oekrn welwxfcd wuvfinr ijls pwreixte to razd an ebghie bqqk ffjwgr if the usugfps lasizts wxue rxubihi.'"
            ],
            "application/vnd.google.colaboratory.intrinsic+json": {
              "type": "string"
            }
          },
          "metadata": {},
          "execution_count": 24
        }
      ],
      "source": [
        "# replace with random letters\n",
        "\n",
        "# all letters\n",
        "allletters = string.ascii_lowercase\n",
        "\n",
        "# recover original\n",
        "words = text.split()\n",
        "\n",
        "# try again\n",
        "for wi in range(len(words)):\n",
        "  \n",
        "  # skip if too short\n",
        "  if len(words[wi])<4:\n",
        "    continue\n",
        "\n",
        "  # extract subword\n",
        "  thisword = words[wi][1:-1]\n",
        "  idx = np.random.randint(0,high=len(allletters),size=len(thisword))\n",
        "  words[wi] = words[wi][0] + ''.join([allletters[i] for i in idx]) + words[wi][-1]\n",
        "\n",
        "' '.join(words)"
      ]
    },
    {
      "cell_type": "code",
      "source": [
        ""
      ],
      "metadata": {
        "id": "SBV5Qc1khIN8"
      },
      "execution_count": null,
      "outputs": []
    }
  ],
  "metadata": {
    "colab": {
      "collapsed_sections": [],
      "name": "Text_Manipulation Project1 .ipynb",
      "provenance": []
    },
    "kernelspec": {
      "display_name": "Python 3 (ipykernel)",
      "language": "python",
      "name": "python3"
    },
    "language_info": {
      "codemirror_mode": {
        "name": "ipython",
        "version": 3
      },
      "file_extension": ".py",
      "mimetype": "text/x-python",
      "name": "python",
      "nbconvert_exporter": "python",
      "pygments_lexer": "ipython3",
      "version": "3.9.7"
    }
  },
  "nbformat": 4,
  "nbformat_minor": 0
}