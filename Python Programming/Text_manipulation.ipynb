{
 "cells": [
  {
   "cell_type": "markdown",
   "metadata": {
    "id": "bhWV8oes-wKR"
   },
   "source": [
    "# COURSE: Master Python for scientific programming by solving projects\n",
    "## PROJECT: Text search and replace\n",
    "#### TEACHER: Mike X Cohen, sincxpress.com\n",
    "##### COURSE URL: udemy.com/course/maspy_x/?couponCode=202201"
   ]
  },
  {
   "cell_type": "code",
   "execution_count": 1,
   "metadata": {
    "id": "JL_0UKJOj1YP"
   },
   "outputs": [],
   "source": [
    "# import all necessary modules\n",
    "import re\n",
    "import string\n",
    "import numpy as np"
   ]
  },
  {
   "cell_type": "markdown",
   "metadata": {
    "id": "dqmU7gnmbu8L"
   },
   "source": [
    "# Import a text file"
   ]
  },
  {
   "cell_type": "code",
   "execution_count": 2,
   "metadata": {
    "id": "82RcRrWTcNa8"
   },
   "outputs": [
    {
     "ename": "NameError",
     "evalue": "name 'files' is not defined",
     "output_type": "error",
     "traceback": [
      "\u001b[1;31m---------------------------------------------------------------------------\u001b[0m",
      "\u001b[1;31mNameError\u001b[0m                                 Traceback (most recent call last)",
      "\u001b[1;32mC:\\Users\\SUNGHE~1.GRO\\AppData\\Local\\Temp/ipykernel_23424/3385975257.py\u001b[0m in \u001b[0;36m<module>\u001b[1;34m\u001b[0m\n\u001b[1;32m----> 1\u001b[1;33m \u001b[0mfile\u001b[0m \u001b[1;33m=\u001b[0m \u001b[0mfiles\u001b[0m\u001b[1;33m.\u001b[0m\u001b[0mupload\u001b[0m\u001b[1;33m(\u001b[0m\u001b[1;33m)\u001b[0m\u001b[1;33m\u001b[0m\u001b[1;33m\u001b[0m\u001b[0m\n\u001b[0m",
      "\u001b[1;31mNameError\u001b[0m: name 'files' is not defined"
     ]
    }
   ],
   "source": []
  },
  {
   "cell_type": "code",
   "execution_count": null,
   "metadata": {
    "id": "yl9WcPCUc_Pr"
   },
   "outputs": [],
   "source": [
    "# extract just the text and have a look at it\n",
    "print(type(file))\n",
    "print(len(file))\n",
    "\n",
    "file.keys()"
   ]
  },
  {
   "cell_type": "code",
   "execution_count": null,
   "metadata": {
    "id": "z7jPTXCniDnM"
   },
   "outputs": [],
   "source": [
    "key = list(file.keys())\n",
    "text = str( file[key[0]] )\n",
    "\n",
    "str(text)"
   ]
  },
  {
   "cell_type": "markdown",
   "metadata": {
    "id": "0pGZgggkiHXs"
   },
   "source": [
    "# Remove formatting text"
   ]
  },
  {
   "cell_type": "code",
   "execution_count": null,
   "metadata": {
    "id": "IPwVS7KNl791"
   },
   "outputs": [],
   "source": [
    "# quick intro to matching with regex\n",
    "sentence = \"Hi, my name is Mike and I like to eat Mike's purple chocolate.\"\n",
    "\n",
    "regex_name = re.compile('Mike')\n",
    "regex_name.findall(sentence)"
   ]
  },
  {
   "cell_type": "code",
   "execution_count": null,
   "metadata": {
    "id": "EDOWrWczmcMB"
   },
   "outputs": [],
   "source": [
    "# substitution\n",
    "regex_name.sub('Mike X',sentence)\n",
    "\n",
    "# names = ['Adam','Bob','Carlos']\n",
    "# for name in names:\n",
    "#   print(regex_name.sub(name,sentence))"
   ]
  },
  {
   "cell_type": "code",
   "execution_count": null,
   "metadata": {
    "id": "3Z9IjJ-Bmpua"
   },
   "outputs": [],
   "source": [
    "# searching with wildcards\n",
    "sentence = \"Hi, my name is Mike and I like to eat Muke's purple chocolate.\"\n",
    "\n",
    "regex_name = re.compile(r'M\\wke')\n",
    "regex_name.findall(sentence)"
   ]
  },
  {
   "cell_type": "code",
   "execution_count": null,
   "metadata": {
    "id": "c9MlwfgAdwT5"
   },
   "outputs": [],
   "source": [
    "# character strings to replace with space\n",
    "'\\n\\n?\\n??:??.??? --> ??:??.??\\n'\n",
    "\n",
    "pattern2replace = r'\\\\n\\\\n\\d\\\\n\\d\\d:\\d\\d.\\d\\d\\d --> \\d\\d:\\d\\d.\\d\\d\\d\\\\n'\n",
    "\n",
    "# regex_timestamps = re.compile('the')\n",
    "regex_timestamps = re.compile('%s'%pattern2replace)\n",
    "regex_timestamps.findall(text)\n"
   ]
  },
  {
   "cell_type": "code",
   "execution_count": null,
   "metadata": {
    "id": "t-JBb5ZIp2bW"
   },
   "outputs": [],
   "source": [
    "# let's see if it works!\n",
    "\n",
    "regex_timestamps.sub(' ',text)"
   ]
  },
  {
   "cell_type": "code",
   "execution_count": null,
   "metadata": {
    "id": "7zjfFlxyp-zk"
   },
   "outputs": [],
   "source": [
    "# optional repeats of the number\n",
    "pattern2replace = r'\\\\n\\\\n\\d{1,3}\\\\n\\d\\d:\\d\\d.\\d\\d\\d --> \\d\\d:\\d\\d.\\d\\d\\d\\\\n'\n",
    "\n",
    "regex_timestamps = re.compile('%s'%pattern2replace)\n",
    "regex_timestamps.findall(text)\n",
    "\n",
    "newtext = regex_timestamps.sub(' ',text)"
   ]
  },
  {
   "cell_type": "code",
   "execution_count": null,
   "metadata": {
    "id": "ESg7tsK9fBde"
   },
   "outputs": [],
   "source": [
    "print(newtext)\n",
    "newtext = newtext[9:-2]\n",
    "print(' ')\n",
    "print(newtext)"
   ]
  },
  {
   "cell_type": "code",
   "execution_count": null,
   "metadata": {
    "id": "eicYTOb1-svq"
   },
   "outputs": [],
   "source": [
    "newtext"
   ]
  },
  {
   "cell_type": "markdown",
   "metadata": {
    "id": "UnWVkgjNAS0W"
   },
   "source": [
    "# Replace 4-letter words and save to disk"
   ]
  },
  {
   "cell_type": "code",
   "execution_count": null,
   "metadata": {
    "id": "XYk7QPxjr7qy"
   },
   "outputs": [],
   "source": [
    "# convert to words\n",
    "words = newtext.split()\n",
    "\n",
    "print(type(words))\n",
    "print(len(words))\n",
    "words[:30]"
   ]
  },
  {
   "cell_type": "code",
   "execution_count": null,
   "metadata": {
    "id": "1AroQEgXgtYl"
   },
   "outputs": [],
   "source": [
    "# count the number of letters in each word\n",
    "\n",
    "for wordi in range(len(words)):\n",
    "  if len(words[wordi])==4:\n",
    "    words[wordi] = words[wordi][0] + '***'\n",
    "\n",
    "words"
   ]
  },
  {
   "cell_type": "code",
   "execution_count": null,
   "metadata": {
    "id": "Xngzuvi2jLIm"
   },
   "outputs": [],
   "source": [
    "# put back together into one string\n",
    "\n",
    "cleantext = ' '.join(words)\n",
    "\n",
    "cleantext"
   ]
  },
  {
   "cell_type": "code",
   "execution_count": null,
   "metadata": {
    "id": "4iFSa-pqjn6G"
   },
   "outputs": [],
   "source": [
    "# Save back to disk\n",
    "with open('clean_transcript.txt','w') as f:\n",
    "  f.write(cleantext)\n",
    "\n",
    "files.download('clean_transcript.txt')"
   ]
  },
  {
   "cell_type": "markdown",
   "metadata": {
    "id": "cEYUxH2OAizE"
   },
   "source": [
    "# Bonus: Readability of scrambled words"
   ]
  },
  {
   "cell_type": "code",
   "execution_count": null,
   "metadata": {
    "id": "FyqGIL85mAW8"
   },
   "outputs": [],
   "source": [
    "# A sentence\n",
    "text = \"I have often wondered whether it's possible to read an entire book faster if the useless letters were removed.\"\n"
   ]
  },
  {
   "cell_type": "code",
   "execution_count": null,
   "metadata": {
    "id": "f1hfXeOFnbXw"
   },
   "outputs": [],
   "source": [
    "# randomly scramble all letters\n",
    "words = text.split()\n",
    "words"
   ]
  },
  {
   "cell_type": "code",
   "execution_count": null,
   "metadata": {
    "id": "ILrxpFoAxpb3"
   },
   "outputs": [],
   "source": [
    "for wi in range(len(words)):\n",
    "  thisword = words[wi]\n",
    "  idx = np.random.permutation(len(thisword))\n",
    "  words[wi] = ''.join([thisword[i] for i in idx])\n"
   ]
  },
  {
   "cell_type": "code",
   "execution_count": null,
   "metadata": {
    "id": "oEN_KfqvyJGe"
   },
   "outputs": [],
   "source": [
    "' '.join(words)"
   ]
  },
  {
   "cell_type": "code",
   "execution_count": null,
   "metadata": {
    "id": "kf1qIVsppfJz"
   },
   "outputs": [],
   "source": [
    "# scramble all letters except first and last (only words with >3 letters)\n",
    "\n",
    "# recover original\n",
    "words = text.split()\n",
    "\n",
    "# try again\n",
    "for wi in range(len(words)):\n",
    "  \n",
    "  # skip if too short\n",
    "  if len(words[wi])<4:\n",
    "    continue\n",
    "\n",
    "  # extract subword\n",
    "  thisword = words[wi][1:-1]\n",
    "  idx = np.random.permutation(len(thisword))\n",
    "  words[wi] = words[wi][0] + ''.join([thisword[i] for i in idx]) + words[wi][-1]\n",
    "\n",
    "' '.join(words)"
   ]
  },
  {
   "cell_type": "code",
   "execution_count": null,
   "metadata": {
    "id": "USGdCKm3xUZo"
   },
   "outputs": [],
   "source": [
    "# replace with random letters\n",
    "\n",
    "# all letters\n",
    "allletters = string.ascii_lowercase\n",
    "\n",
    "# recover original\n",
    "words = text.split()\n",
    "\n",
    "# try again\n",
    "for wi in range(len(words)):\n",
    "  \n",
    "  # skip if too short\n",
    "  if len(words[wi])<4:\n",
    "    continue\n",
    "\n",
    "  # extract subword\n",
    "  thisword = words[wi][1:-1]\n",
    "  idx = np.random.randint(0,high=len(allletters),size=len(thisword))\n",
    "  words[wi] = words[wi][0] + ''.join([allletters[i] for i in idx]) + words[wi][-1]\n",
    "\n",
    "' '.join(words)"
   ]
  }
 ],
 "metadata": {
  "colab": {
   "authorship_tag": "ABX9TyN9gAXYc0Q1nwxVRhbU7+3f",
   "collapsed_sections": [],
   "name": "MasPy_TextReplace_solution.ipynb",
   "provenance": [
    {
     "file_id": "1U4oG0A3DFC-XBWhvecYeA3YYReqHpShX",
     "timestamp": 1593323391700
    }
   ]
  },
  "kernelspec": {
   "display_name": "Python 3 (ipykernel)",
   "language": "python",
   "name": "python3"
  },
  "language_info": {
   "codemirror_mode": {
    "name": "ipython",
    "version": 3
   },
   "file_extension": ".py",
   "mimetype": "text/x-python",
   "name": "python",
   "nbconvert_exporter": "python",
   "pygments_lexer": "ipython3",
   "version": "3.9.7"
  }
 },
 "nbformat": 4,
 "nbformat_minor": 1
}
