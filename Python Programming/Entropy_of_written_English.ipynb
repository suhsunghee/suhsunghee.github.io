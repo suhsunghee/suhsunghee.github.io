{
  "nbformat": 4,
  "nbformat_minor": 0,
  "metadata": {
    "colab": {
      "name": "Entropy_of_written_English.ipynb",
      "provenance": []
    },
    "kernelspec": {
      "name": "python3",
      "display_name": "Python 3"
    },
    "language_info": {
      "name": "python"
    }
  },
  "cells": [
    {
      "cell_type": "code",
      "execution_count": 2,
      "metadata": {
        "id": "RiJyoDWQkLvF"
      },
      "outputs": [],
      "source": [
        "#Importing modules\n",
        "\n",
        "import numpy as np\n",
        "import matplotlib.pyplot as plt\n",
        "import requests\n",
        "import re\n",
        "import string"
      ]
    },
    {
      "cell_type": "code",
      "source": [
        "#Importing text using requests.get\n",
        "\n",
        "book = requests.get('https://www.gutenberg.org/files/35/35-0.txt')"
      ],
      "metadata": {
        "id": "inNEHNLPlG_y"
      },
      "execution_count": 3,
      "outputs": []
    },
    {
      "cell_type": "code",
      "source": [
        "#the text contains 204357 letters\n",
        "text = book.text\n",
        "print(len(text))"
      ],
      "metadata": {
        "colab": {
          "base_uri": "https://localhost:8080/"
        },
        "id": "yaTPWOLvlJcn",
        "outputId": "9adfa2c2-d160-40c9-f606-add08f10acba"
      },
      "execution_count": 4,
      "outputs": [
        {
          "output_type": "stream",
          "name": "stdout",
          "text": [
            "204357\n"
          ]
        }
      ]
    },
    {
      "cell_type": "code",
      "source": [
        "text[:2000]"
      ],
      "metadata": {
        "colab": {
          "base_uri": "https://localhost:8080/",
          "height": 123
        },
        "id": "XIT8EfA7lQQ_",
        "outputId": "118957c3-625f-496f-846a-64d4ab6aa46a"
      },
      "execution_count": 5,
      "outputs": [
        {
          "output_type": "execute_result",
          "data": {
            "text/plain": [
              "'ï»¿The Project Gutenberg eBook of The Time Machine, by H. G. Wells\\r\\n\\r\\nThis eBook is for the use of anyone anywhere in the United States and\\r\\nmost other parts of the world at no cost and with almost no restrictions\\r\\nwhatsoever. You may copy it, give it away or re-use it under the terms\\r\\nof the Project Gutenberg License included with this eBook or online at\\r\\nwww.gutenberg.org. If you are not located in the United States, you\\r\\nwill have to check the laws of the country where you are located before\\r\\nusing this eBook.\\r\\n\\r\\nTitle: The Time Machine\\r\\n\\r\\nAuthor: H. G. Wells\\r\\n\\r\\nRelease Date: July, 1992 [eBook #35]\\r\\n[Most recently updated: October 22, 2020]\\r\\n\\r\\nLanguage: English\\r\\n\\r\\nCharacter set encoding: UTF-8\\r\\n\\r\\n\\r\\n*** START OF THE PROJECT GUTENBERG EBOOK THE TIME MACHINE ***\\r\\n\\r\\n\\r\\n\\r\\n\\r\\nThe Time Machine\\r\\n\\r\\nAn Invention\\r\\n\\r\\nby H. G. Wells\\r\\n\\r\\n\\r\\nCONTENTS\\r\\n\\r\\n I Introduction\\r\\n II The Machine\\r\\n III The Time Traveller Returns\\r\\n IV Time Travelling\\r\\n V In the Golden Age\\r\\n VI The Sunset of Mankind\\r\\n VII A Sudden Shock\\r\\n VIII Explanation\\r\\n IX The Morlocks\\r\\n X When Night Came\\r\\n XI The Palace of Green Porcelain\\r\\n XII In the Darkness\\r\\n XIII The Trap of the White Sphinx\\r\\n XIV The Further Vision\\r\\n XV The Time Travellerâ\\x80\\x99s Return\\r\\n XVI After the Story\\r\\n Epilogue\\r\\n\\r\\n\\r\\n\\r\\n\\r\\n I.\\r\\n Introduction\\r\\n\\r\\n\\r\\nThe Time Traveller (for so it will be convenient to speak of him) was\\r\\nexpounding a recondite matter to us. His pale grey eyes shone and\\r\\ntwinkled, and his usually pale face was flushed and animated. The fire\\r\\nburnt brightly, and the soft radiance of the incandescent lights in the\\r\\nlilies of silver caught the bubbles that flashed and passed in our\\r\\nglasses. Our chairs, being his patents, embraced and caressed us rather\\r\\nthan submitted to be sat upon, and there was that luxurious\\r\\nafter-dinner atmosphere, when thought runs gracefully free of the\\r\\ntrammels of precision. And he put it to us in this wayâ\\x80\\x94marking the\\r\\npoints with a lean forefingerâ\\x80\\x94as we sat and lazily admired his\\r\\nearnestness over this new par'"
            ],
            "application/vnd.google.colaboratory.intrinsic+json": {
              "type": "string"
            }
          },
          "metadata": {},
          "execution_count": 5
        }
      ]
    },
    {
      "cell_type": "code",
      "source": [
        "# character strings to replace with space\n",
        "strings2replace = [\n",
        "                 '\\r\\n\\r\\nâ\\x80\\x9c', # new paragraph\n",
        "                 'â\\x80\\x9c',         # open quote\n",
        "                 'â\\x80\\x9d',         # close quote\n",
        "                 '\\r\\n',              # new line\n",
        "                 'â\\x80\\x94',         # hyphen\n",
        "                 'â\\x80\\x99',         # single apostrophe\n",
        "                 'â\\x80\\x98',         # single quote\n",
        "                 '_',                 # underscore, used for stressing\n",
        "                 ]\n"
      ],
      "metadata": {
        "id": "OpFy_0KylkQI"
      },
      "execution_count": 6,
      "outputs": []
    },
    {
      "cell_type": "code",
      "source": [
        "#using regex to replace weird text from above \n",
        "\n",
        "for i in strings2replace:\n",
        "      regexp = re.compile('%s'%i)\n",
        "      text = regexp.sub(' ',text)\n"
      ],
      "metadata": {
        "id": "GkeWBf3Hlu6z"
      },
      "execution_count": 7,
      "outputs": []
    },
    {
      "cell_type": "code",
      "source": [
        "text[:2000]"
      ],
      "metadata": {
        "colab": {
          "base_uri": "https://localhost:8080/",
          "height": 123
        },
        "id": "xgC26QAAmhVb",
        "outputId": "89276ca5-1afa-43c0-d3cd-991faff67014"
      },
      "execution_count": 8,
      "outputs": [
        {
          "output_type": "execute_result",
          "data": {
            "text/plain": [
              "'ï»¿The Project Gutenberg eBook of The Time Machine, by H. G. Wells  This eBook is for the use of anyone anywhere in the United States and most other parts of the world at no cost and with almost no restrictions whatsoever. You may copy it, give it away or re-use it under the terms of the Project Gutenberg License included with this eBook or online at www.gutenberg.org. If you are not located in the United States, you will have to check the laws of the country where you are located before using this eBook.  Title: The Time Machine  Author: H. G. Wells  Release Date: July, 1992 [eBook #35] [Most recently updated: October 22, 2020]  Language: English  Character set encoding: UTF-8   *** START OF THE PROJECT GUTENBERG EBOOK THE TIME MACHINE ***     The Time Machine  An Invention  by H. G. Wells   CONTENTS   I Introduction  II The Machine  III The Time Traveller Returns  IV Time Travelling  V In the Golden Age  VI The Sunset of Mankind  VII A Sudden Shock  VIII Explanation  IX The Morlocks  X When Night Came  XI The Palace of Green Porcelain  XII In the Darkness  XIII The Trap of the White Sphinx  XIV The Further Vision  XV The Time Traveller s Return  XVI After the Story  Epilogue      I.  Introduction   The Time Traveller (for so it will be convenient to speak of him) was expounding a recondite matter to us. His pale grey eyes shone and twinkled, and his usually pale face was flushed and animated. The fire burnt brightly, and the soft radiance of the incandescent lights in the lilies of silver caught the bubbles that flashed and passed in our glasses. Our chairs, being his patents, embraced and caressed us rather than submitted to be sat upon, and there was that luxurious after-dinner atmosphere, when thought runs gracefully free of the trammels of precision. And he put it to us in this way marking the points with a lean forefinger as we sat and lazily admired his earnestness over this new paradox (as we thought it) and his fecundity. You must follow me carefully. I sh'"
            ],
            "application/vnd.google.colaboratory.intrinsic+json": {
              "type": "string"
            }
          },
          "metadata": {},
          "execution_count": 8
        }
      ]
    },
    {
      "cell_type": "code",
      "source": [
        "# Finding out distribution of word lengths in the text "
      ],
      "metadata": {
        "id": "9M-p6Ci1nmMO"
      },
      "execution_count": null,
      "outputs": []
    },
    {
      "cell_type": "code",
      "source": [
        "words = text.split( )"
      ],
      "metadata": {
        "id": "RBCpZjhrn37C"
      },
      "execution_count": 9,
      "outputs": []
    },
    {
      "cell_type": "code",
      "source": [
        "wordlength=[]\n",
        "for i in words:\n",
        " x = len(i)\n",
        " wordlength.append(x)"
      ],
      "metadata": {
        "id": "BbDXg1Rtozzj"
      },
      "execution_count": 10,
      "outputs": []
    },
    {
      "cell_type": "code",
      "source": [
        "plt.hist(wordlength,bins=30)\n",
        "plt.xlabel('word lengths')\n",
        "plt.ylabel('word counts')\n",
        "plt.show()"
      ],
      "metadata": {
        "colab": {
          "base_uri": "https://localhost:8080/",
          "height": 279
        },
        "id": "0scS_-1io1PG",
        "outputId": "ffbb5ac9-f6c5-4f62-d936-95c00937be44"
      },
      "execution_count": 11,
      "outputs": [
        {
          "output_type": "display_data",
          "data": {
            "text/plain": [
              "<Figure size 432x288 with 1 Axes>"
            ],
            "image/png": "[encoded data removed]"
          },
          "metadata": {
            "needs_background": "light"
          }
        }
      ]
    },
    {
      "cell_type": "code",
      "source": [
        "#now count the each letter\n",
        "#using ascii, get all alphabets then using for loops, sum up all the counts of each letter\n",
        "\n",
        "letters = string.ascii_lowercase\n",
        "newtext= text.lower()"
      ],
      "metadata": {
        "id": "nAHW-U5Xpfpy"
      },
      "execution_count": 12,
      "outputs": []
    },
    {
      "cell_type": "code",
      "source": [
        "lettercounts = np.zeros(len(letters))\n",
        "n=0 \n",
        "for i in letters:\n",
        " lettercounts[n]= newtext.count(i)\n",
        " n+=1"
      ],
      "metadata": {
        "id": "aw-H4w93tJNm"
      },
      "execution_count": 13,
      "outputs": []
    },
    {
      "cell_type": "code",
      "source": [
        "numletters = len(letters)\n",
        "fig,ax = plt.subplots(1,figsize=(15,4))\n",
        "plt.bar(range(numletters),lettercounts)\n",
        "ax.set_xticks(range(numletters))\n",
        "ax.set_xticklabels(letters)\n",
        "ax.set_xlabel('letters')\n",
        "ax.set_ylabel('counts')\n",
        "plt.show()\n",
        "\n"
      ],
      "metadata": {
        "colab": {
          "base_uri": "https://localhost:8080/",
          "height": 279
        },
        "id": "4QPAKODBtPIa",
        "outputId": "c906b15b-9cd8-4e8f-bc1e-cb485a699465"
      },
      "execution_count": 14,
      "outputs": [
        {
          "output_type": "display_data",
          "data": {
            "text/plain": [
              "<Figure size 1080x288 with 1 Axes>"
            ],
            "image/png": "[encoded data removed]"
          },
          "metadata": {
            "needs_background": "light"
          }
        }
      ]
    },
    {
      "cell_type": "code",
      "source": [
        "#now convert the counts to the probability of each letter in the text\n",
        "\n",
        "total_letters = lettercounts.sum()\n",
        "letter_prob = lettercounts/total_letters\n",
        "letter_prob"
      ],
      "metadata": {
        "colab": {
          "base_uri": "https://localhost:8080/"
        },
        "id": "_3dmuviWwI5e",
        "outputId": "7a1c33ee-82d4-4a17-d630-25935ff53e34"
      },
      "execution_count": 15,
      "outputs": [
        {
          "output_type": "execute_result",
          "data": {
            "text/plain": [
              "array([0.08135922, 0.01385123, 0.02583308, 0.04381863, 0.12620504,\n",
              "       0.02391905, 0.02240696, 0.05640659, 0.07217185, 0.00119308,\n",
              "       0.00785392, 0.0424788 , 0.02820011, 0.07025782, 0.07118294,\n",
              "       0.01829179, 0.00067629, 0.05675112, 0.05941801, 0.09669063,\n",
              "       0.02761314, 0.00915546, 0.02248352, 0.00179919, 0.01929347,\n",
              "       0.00068905])"
            ]
          },
          "metadata": {},
          "execution_count": 15
        }
      ]
    },
    {
      "cell_type": "code",
      "source": [
        "fig,ax = plt.subplots(1,figsize=(15,4))\n",
        "plt.bar(range(numletters),letter_prob)\n",
        "ax.set_xticks(range(numletters))\n",
        "ax.set_xticklabels(letters)\n",
        "ax.set_xlabel('letters')\n",
        "ax.set_ylabel('probability')\n",
        "fig;\n"
      ],
      "metadata": {
        "colab": {
          "base_uri": "https://localhost:8080/",
          "height": 279
        },
        "id": "mkXlAZhMymNN",
        "outputId": "7121e488-a455-4d9c-9869-62c15085cc8a"
      },
      "execution_count": 16,
      "outputs": [
        {
          "output_type": "display_data",
          "data": {
            "text/plain": [
              "<Figure size 1080x288 with 1 Axes>"
            ],
            "image/png": "[encoded data removed]"
          },
          "metadata": {
            "needs_background": "light"
          }
        }
      ]
    },
    {
      "cell_type": "code",
      "source": [
        "entropy = -sum(letter_prob*np.log2(letter_prob+np.finfo(float).eps))\n",
        "ax.set_title('Entropy = %.3f'%entropy)\n",
        "fig"
      ],
      "metadata": {
        "colab": {
          "base_uri": "https://localhost:8080/",
          "height": 295
        },
        "id": "vUyYk3Y8zDtN",
        "outputId": "2648862f-c273-48cb-c967-cea99fc28517"
      },
      "execution_count": 17,
      "outputs": [
        {
          "output_type": "execute_result",
          "data": {
            "text/plain": [
              "<Figure size 1080x288 with 1 Axes>"
            ],
            "image/png": "[encoded data removed]"
          },
          "metadata": {},
          "execution_count": 17
        }
      ]
    },
    {
      "cell_type": "code",
      "source": [
        "#probability matrix to show which letter is more likely to show up followed by a letter\n",
        "\n",
        "probmat = np.zeros((numletters,numletters))\n",
        "for i in range(len(newtext)-1):\n",
        "  currlet = newtext[i]\n",
        "  nextlet = newtext[i+1]\n",
        "  if currlet in letters and nextlet in letters:\n",
        "      probmat[letters.index(currlet),letters.index(nextlet)] += 1\n"
      ],
      "metadata": {
        "id": "LHvAFAOSzRPc"
      },
      "execution_count": 18,
      "outputs": []
    },
    {
      "cell_type": "code",
      "source": [
        "fig,ax = plt.subplots(1,figsize=(10,10))\n",
        "ax.imshow(probmat,vmax = 500)\n",
        "ax.set_ylabel('Current letter')\n",
        "ax.set_xlabel('Next letter')\n",
        "ax.set_xticks(range(numletters))\n",
        "ax.set_yticks(range(numletters))\n",
        "ax.set_xticklabels(letters)\n",
        "ax.set_yticklabels(letters)\n",
        "plt.show()\n",
        "\n"
      ],
      "metadata": {
        "colab": {
          "base_uri": "https://localhost:8080/",
          "height": 606
        },
        "id": "SenUdfP15Oyd",
        "outputId": "aa95d0aa-004f-4cc5-fb12-f2899ab876bf"
      },
      "execution_count": 19,
      "outputs": [
        {
          "output_type": "display_data",
          "data": {
            "text/plain": [
              "<Figure size 720x720 with 1 Axes>"
            ],
            "image/png": "[encoded data removed]"
          },
          "metadata": {
            "needs_background": "light"
          }
        }
      ]
    },
    {
      "cell_type": "code",
      "source": [
        "# now convert this to entropy \n",
        "condentr = np.zeros(numletters)\n",
        "for i in range(numletters):\n",
        "  probs = probmat[i,:]\n",
        "  probs = probs/ sum(probs)\n",
        "  condentr[i] = -sum(probs*np.log2(probs+np.finfo(float).eps))\n"
      ],
      "metadata": {
        "id": "DaAPTEDY5V3J"
      },
      "execution_count": 21,
      "outputs": []
    },
    {
      "cell_type": "code",
      "source": [
        "condentr"
      ],
      "metadata": {
        "colab": {
          "base_uri": "https://localhost:8080/"
        },
        "id": "7GPpZ9uRjd_J",
        "outputId": "04e8da63-5f47-4386-a05b-5f146e5f1ead"
      },
      "execution_count": 22,
      "outputs": [
        {
          "output_type": "execute_result",
          "data": {
            "text/plain": [
              "array([ 3.63355136e+00,  2.94999581e+00,  3.23982864e+00,  2.99732790e+00,\n",
              "        3.69151116e+00,  2.99733621e+00,  3.12558479e+00,  2.07518829e+00,\n",
              "        3.37481621e+00,  1.52146062e+00,  2.34295007e+00,  3.27852259e+00,\n",
              "        2.76144809e+00,  3.36026691e+00,  3.70166456e+00,  3.31191352e+00,\n",
              "       -3.20342650e-16,  3.51956027e+00,  3.37001234e+00,  2.76053494e+00,\n",
              "        3.45688384e+00,  1.16968228e+00,  2.71389837e+00,  2.67795321e+00,\n",
              "        2.70172336e+00,  2.21839596e+00])"
            ]
          },
          "metadata": {},
          "execution_count": 22
        }
      ]
    },
    {
      "cell_type": "code",
      "source": [
        "fig,ax = plt.subplots(1,figsize=(8,4))\n",
        "ax.bar(range(numletters),condentr)\n",
        "ax.set_xticks(range(numletters))\n",
        "ax.set_xticklabels(letters)\n",
        "plt.show()"
      ],
      "metadata": {
        "colab": {
          "base_uri": "https://localhost:8080/",
          "height": 265
        },
        "id": "gq4ibP6Nj37A",
        "outputId": "73bc1b55-dfea-4760-ada6-e89eb67a4105"
      },
      "execution_count": 24,
      "outputs": [
        {
          "output_type": "display_data",
          "data": {
            "text/plain": [
              "<Figure size 576x288 with 1 Axes>"
            ],
            "image/png": "[encoded data removed]"
          },
          "metadata": {
            "needs_background": "light"
          }
        }
      ]
    }
  ]
}