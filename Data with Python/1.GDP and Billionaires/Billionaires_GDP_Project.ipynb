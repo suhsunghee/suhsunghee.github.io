{
 "cells": [
  {
   "cell_type": "markdown",
   "id": "c792e997",
   "metadata": {},
   "source": [
    "## Importing libraries and data "
   ]
  },
  {
   "cell_type": "code",
   "execution_count": null,
   "id": "b1c15a2d",
   "metadata": {},
   "outputs": [],
   "source": [
    "import pandas as pd\n",
    "import matplotlib.pyplot as plt\n",
    "import numpy as np\n",
    "import seaborn as sns"
   ]
  },
  {
   "cell_type": "code",
   "execution_count": null,
   "id": "1744c750",
   "metadata": {},
   "outputs": [],
   "source": [
    "%matplotlib inline"
   ]
  },
  {
   "cell_type": "code",
   "execution_count": null,
   "id": "263e770a",
   "metadata": {},
   "outputs": [],
   "source": [
    "GDP2020 = pd.read_excel('GDPCAP.xlsx')\n",
    "GDPCAP = pd.read_excel ('GDP2020.xlsx')\n",
    "Bnaires = pd.read_excel('2022_forbes_billionaires.xlsx')"
   ]
  },
  {
   "cell_type": "markdown",
   "id": "5d440222",
   "metadata": {},
   "source": [
    "## Cleaning the data\n",
    "\n",
    "\n",
    "Cleaning GDP2020 Per Capita data \n",
    "\n",
    "1. Overview\n",
    "2. Drop columns .drop(\"column_name\", axis = 1, inplace = True)\n",
    "3. Renaming columns by creating a new list and assigning to the columns\n",
    "4. Dropping rows where there's no information on GDP dropna( subset = [\"column_name\"], inplace = True )\n"
   ]
  },
  {
   "cell_type": "code",
   "execution_count": null,
   "id": "f9afb6ad",
   "metadata": {},
   "outputs": [],
   "source": [
    "GDPCAP.head()"
   ]
  },
  {
   "cell_type": "code",
   "execution_count": null,
   "id": "1c98cde3",
   "metadata": {},
   "outputs": [],
   "source": [
    "GDPCAP.drop(\"Country Code\", axis = 1 , inplace = True)\n",
    "columns_rename = ['CountryName','2020GDP']\n",
    "GDPCAP.columns = columns_rename \n",
    "GDPCAP.dropna(subset = ['2020GDP'], inplace = True )"
   ]
  },
  {
   "cell_type": "markdown",
   "id": "d6b50515",
   "metadata": {},
   "source": [
    "GDP 2020 table clean\n",
    "1. removing null rows for GDP \n",
    "2. reformatting GDP"
   ]
  },
  {
   "cell_type": "code",
   "execution_count": null,
   "id": "9b264cca",
   "metadata": {},
   "outputs": [],
   "source": [
    "GDP2020.rename(columns = {\"GDPPERCAP\" : \"GDP\" }, inplace = True) \n",
    "GDP2020.dropna(subset = [\"GDP\"], inplace = True )"
   ]
  },
  {
   "cell_type": "code",
   "execution_count": null,
   "id": "0a6ddbd2",
   "metadata": {},
   "outputs": [],
   "source": [
    "pd.options.display.float_format = '{:.2f}'.format\n",
    "GDP2020.nlargest(20,'GDP')"
   ]
  },
  {
   "cell_type": "markdown",
   "id": "697bd4a0",
   "metadata": {},
   "source": [
    "Cleaning Billionare table \n",
    "1. dropping unneccessary table \n",
    "2. concatenating networth to convert to int"
   ]
  },
  {
   "cell_type": "code",
   "execution_count": null,
   "id": "7f46d2ed",
   "metadata": {},
   "outputs": [],
   "source": [
    "Bnaires.drop(\"Column1\", axis = 1 , inplace = True)"
   ]
  },
  {
   "cell_type": "code",
   "execution_count": null,
   "id": "b254160f",
   "metadata": {},
   "outputs": [],
   "source": [
    "Bnaires[\"networth\"] = Bnaires[\"networth\"].str.replace(\"B\",\"\")\n",
    "Bnaires[\"networth\"] = Bnaires[\"networth\"].str.replace(\"$\",\"\")\n",
    "Bnaires[\"networth\"] = Bnaires[\"networth\"].astype(float)\n",
    "\n",
    "\n"
   ]
  },
  {
   "cell_type": "code",
   "execution_count": null,
   "id": "ae8eaff3",
   "metadata": {
    "scrolled": true
   },
   "outputs": [],
   "source": [
    "Bnaires.head(50)"
   ]
  },
  {
   "cell_type": "markdown",
   "id": "60440a81",
   "metadata": {},
   "source": [
    "In Billionaires record, some of the countries do not match the names listed in GDP data\n",
    "\n",
    "Finding unmatched country names from Billionaire data to map it on GDP data\n",
    "1. saving unique country names from each data frame as lists\n",
    "2. using for loop, append country names (from Billionaire list) that do not exist in GDP data\n",
    "3. check the data quality & confirm what needs to be fixed for a good quality mapping\n",
    "4. after mapping recheck the data for both GDP & GDP Per capita country names \n"
   ]
  },
  {
   "cell_type": "code",
   "execution_count": null,
   "id": "0b62bd0c",
   "metadata": {},
   "outputs": [],
   "source": [
    "Bnairecountry = Bnaires[\"country\"].unique()\n",
    "GDPcountry = GDP2020[\"Country\"].unique()"
   ]
  },
  {
   "cell_type": "code",
   "execution_count": null,
   "id": "cfc5db8b",
   "metadata": {},
   "outputs": [],
   "source": [
    "Missingcountry = []\n",
    "for i in Bnairecountry:\n",
    "    if i not in GDPcountry: \n",
    "        Missingcountry.append(i)\n",
    "    "
   ]
  },
  {
   "cell_type": "code",
   "execution_count": null,
   "id": "45c862c0",
   "metadata": {
    "scrolled": true
   },
   "outputs": [],
   "source": [
    "Missingcountry"
   ]
  },
  {
   "cell_type": "code",
   "execution_count": null,
   "id": "1a57723d",
   "metadata": {},
   "outputs": [],
   "source": [
    "\n",
    "GDP2020.loc[GDP2020[\"Country\"].str.contains(\"|\".join(Missingcountry))]"
   ]
  },
  {
   "cell_type": "code",
   "execution_count": null,
   "id": "4e27f221",
   "metadata": {
    "scrolled": false
   },
   "outputs": [],
   "source": [
    "Bnaires.loc[Bnaires['country'].str.contains('Hong Kong'),'country'] = 'Hong Kong SAR, China'\n",
    "Bnaires.loc[Bnaires['country'].str.contains('Russia'),'country'] = 'Russian Federation'\n",
    "Bnaires.loc[Bnaires['country'].str.contains('Czechia'),'country'] = 'Czech Republic'\n",
    "Bnaires.loc[Bnaires['country'].str.contains('South Korea'),'country'] = 'Korea, Rep.'\n",
    "Bnaires.loc[Bnaires['country'].str.contains('Slovakia'),'country'] = 'Slovak Republic'\n",
    "Bnaires.loc[Bnaires['country'].str.contains('Venezuela'),'country'] = 'Venezuela, RB'\n",
    "Bnaires.loc[Bnaires['country'].str.contains('Guernsey'),'country'] = 'United Kingdom'\n",
    "Bnaires.loc[Bnaires['country'].str.contains('Macau'),'country'] = 'Macao SAR, China'\n",
    "Bnaires.loc[Bnaires['country'].str.contains('Taiwan'),'country'] = 'China'\n",
    "Bnaires.loc[Bnaires['country'].str.contains('Egypt'),'country'] = 'Egypt, Arab Rep.'\n"
   ]
  },
  {
   "cell_type": "code",
   "execution_count": null,
   "id": "46af7517",
   "metadata": {},
   "outputs": [],
   "source": [
    "Bnairecountry = Bnaires[\"country\"].unique()"
   ]
  },
  {
   "cell_type": "code",
   "execution_count": null,
   "id": "797e997b",
   "metadata": {},
   "outputs": [],
   "source": [
    "\n",
    "maptest = []\n",
    "for i in Bnairecountry:\n",
    "    if i not in GDPcountry: \n",
    "        maptest.append(i)\n",
    "    "
   ]
  },
  {
   "cell_type": "code",
   "execution_count": null,
   "id": "507a3a24",
   "metadata": {},
   "outputs": [],
   "source": [
    "maptest"
   ]
  },
  {
   "cell_type": "code",
   "execution_count": null,
   "id": "49a167e7",
   "metadata": {},
   "outputs": [],
   "source": [
    "Bnaires.loc[Bnaires['country'].str.contains('Eswatini'), \"country\"] = 'Eswatini'"
   ]
  },
  {
   "cell_type": "code",
   "execution_count": null,
   "id": "5aeb8afb",
   "metadata": {},
   "outputs": [],
   "source": [
    "maptest2 = []\n",
    "\n",
    "for i in Bnaires['country'].unique():\n",
    "    if i not in   GDPCAP['CountryName'].unique():\n",
    "        maptest2.append(i)"
   ]
  },
  {
   "cell_type": "code",
   "execution_count": null,
   "id": "2f1104dd",
   "metadata": {},
   "outputs": [],
   "source": [
    "maptest2"
   ]
  },
  {
   "cell_type": "code",
   "execution_count": null,
   "id": "7008ab3d",
   "metadata": {},
   "outputs": [],
   "source": [
    "GDPCAP.loc[GDPCAP['CountryName'].str.contains(\"Liechten\")].sort_values(by = 'CountryName')"
   ]
  },
  {
   "cell_type": "code",
   "execution_count": null,
   "id": "5adf800b",
   "metadata": {},
   "outputs": [],
   "source": [
    "\n",
    "GDPCAP.loc[GDPCAP['CountryName'].str.contains(\"V\")].sort_values(by = 'CountryName')"
   ]
  },
  {
   "cell_type": "markdown",
   "id": "23f219e4",
   "metadata": {},
   "source": [
    "# Exploring and Visualizing data"
   ]
  },
  {
   "cell_type": "code",
   "execution_count": null,
   "id": "106d62fe",
   "metadata": {
    "scrolled": true
   },
   "outputs": [],
   "source": [
    "Bnaires.info()"
   ]
  },
  {
   "cell_type": "markdown",
   "id": "91c58739",
   "metadata": {},
   "source": [
    "1. Top 10 country with most billionaires"
   ]
  },
  {
   "cell_type": "code",
   "execution_count": null,
   "id": "4b2804ed",
   "metadata": {},
   "outputs": [],
   "source": [
    "bnairecountry = Bnaires.groupby(\"country\")"
   ]
  },
  {
   "cell_type": "code",
   "execution_count": null,
   "id": "a987574e",
   "metadata": {
    "scrolled": true
   },
   "outputs": [],
   "source": [
    "bnairecountry.size().nlargest(10)"
   ]
  },
  {
   "cell_type": "markdown",
   "id": "0c8e3923",
   "metadata": {},
   "source": [
    "2. Top 10 country with most money from billionaires"
   ]
  },
  {
   "cell_type": "code",
   "execution_count": null,
   "id": "6395a772",
   "metadata": {
    "scrolled": true
   },
   "outputs": [],
   "source": [
    "bnairecountry.sum().sort_values(\"networth\", ascending = False)"
   ]
  },
  {
   "cell_type": "markdown",
   "id": "2a1eda22",
   "metadata": {},
   "source": [
    "3. Average age of billionaire per country , select only top 10 "
   ]
  },
  {
   "cell_type": "code",
   "execution_count": null,
   "id": "9d25cfae",
   "metadata": {},
   "outputs": [],
   "source": [
    "agedistribution = bnairecountry[\"age\"].describe()"
   ]
  },
  {
   "cell_type": "code",
   "execution_count": null,
   "id": "edf22768",
   "metadata": {},
   "outputs": [],
   "source": [
    "agedistribution[\"count\"] = agedistribution[\"count\"].astype(int)"
   ]
  },
  {
   "cell_type": "code",
   "execution_count": null,
   "id": "f60c24ad",
   "metadata": {
    "scrolled": false
   },
   "outputs": [],
   "source": [
    "countfilter = agedistribution.loc[agedistribution[\"count\"]>15]\n",
    "\n",
    "countfilter[[\"mean\",\"count\"]].nsmallest(10,\"mean\")"
   ]
  },
  {
   "cell_type": "markdown",
   "id": "39b44435",
   "metadata": {},
   "source": [
    "Using lambda funtion to find out how many billionaires exist in U.S."
   ]
  },
  {
   "cell_type": "code",
   "execution_count": null,
   "id": "a1ef1756",
   "metadata": {
    "scrolled": true
   },
   "outputs": [],
   "source": [
    "bnairecountries = Bnaires[\"country\"]\n",
    "len(list(filter(lambda x : \"United States\" in x, bnairecountries)))"
   ]
  },
  {
   "cell_type": "markdown",
   "id": "c93326c9",
   "metadata": {},
   "source": [
    "Joining GDP Per capita and GDP for further analysis and visuzalization"
   ]
  },
  {
   "cell_type": "code",
   "execution_count": null,
   "id": "ac7a1ffd",
   "metadata": {},
   "outputs": [],
   "source": [
    "total_capita = GDP2020.merge(GDPCAP,how = 'inner', left_on= \"Country\", right_on=\"CountryName\")"
   ]
  },
  {
   "cell_type": "code",
   "execution_count": null,
   "id": "8ce08f4a",
   "metadata": {
    "scrolled": false
   },
   "outputs": [],
   "source": [
    "total_capita.rename(columns = {\"2020GDP\":\"CAP\"}, inplace = True)\n",
    "total_capita"
   ]
  },
  {
   "cell_type": "code",
   "execution_count": null,
   "id": "be90f39c",
   "metadata": {},
   "outputs": [],
   "source": [
    "total_capita[\"GDP_Rank\"] = total_capita[\"GDP\"].rank(ascending = False)\n",
    "total_capita[\"CAP_Rank\"] = total_capita[\"CAP\"].rank(ascending = False)\n",
    "\n",
    "total_capita[\"TotalGDP_standardliving_ratio\"] = total_capita[\"GDP_Rank\"]/total_capita[\"CAP_Rank\"]\n"
   ]
  },
  {
   "cell_type": "code",
   "execution_count": null,
   "id": "c87db8cf",
   "metadata": {
    "scrolled": true
   },
   "outputs": [],
   "source": [
    "total_capita.sort_values(by = \"TotalGDP_standardliving_ratio\", ascending = True)"
   ]
  },
  {
   "cell_type": "code",
   "execution_count": null,
   "id": "01599748",
   "metadata": {},
   "outputs": [],
   "source": [
    "plt.figure(figsize =(10,6))\n",
    "sns.regplot(data =total_capita, y = \"GDP_Rank\", x = \"CAP_Rank\", color = 'c').set(title = \"Capita_Rank vs Total GDP rank\")"
   ]
  },
  {
   "cell_type": "code",
   "execution_count": null,
   "id": "e8eb21a6",
   "metadata": {},
   "outputs": [],
   "source": [
    "top20GDP =total_capita.nlargest(20,[\"GDP\"])"
   ]
  },
  {
   "cell_type": "code",
   "execution_count": null,
   "id": "7f1000a5",
   "metadata": {},
   "outputs": [],
   "source": [
    "top80GDP =total_capita.nlargest(80,[\"GDP\"])\n",
    "top200GDP = total_capita.nlargest(200,[\"GDP\"])"
   ]
  },
  {
   "cell_type": "code",
   "execution_count": null,
   "id": "a661ec7f",
   "metadata": {
    "scrolled": true
   },
   "outputs": [],
   "source": [
    "plt.figure(figsize =(10,6))\n",
    "sns.regplot(data =top20GDP, y = \"GDP_Rank\", x = \"CAP_Rank\", color = 'c').set(title = \"Top20 Capita_Rank vs Total GDP rank\")"
   ]
  },
  {
   "cell_type": "code",
   "execution_count": null,
   "id": "f0e7f271",
   "metadata": {},
   "outputs": [],
   "source": [
    "sns.jointplot(data =top20GDP, y = \"GDP_Rank\", x = \"CAP_Rank\",kind ='reg')"
   ]
  },
  {
   "cell_type": "code",
   "execution_count": null,
   "id": "abc2e4ee",
   "metadata": {
    "scrolled": false
   },
   "outputs": [],
   "source": [
    "plt.figure(figsize =(10,6))\n",
    "sns.regplot(data =top200GDP, y = \"GDP_Rank\", x = \"CAP_Rank\", color = 'c').set(title = \"Top20 Capita_Rank vs Total GDP rank\")"
   ]
  },
  {
   "cell_type": "code",
   "execution_count": null,
   "id": "eae6ca0e",
   "metadata": {},
   "outputs": [],
   "source": [
    "\n",
    "sns.lmplot(data =top20GDP, y= \"GDP_Rank\", x = \"CAP_Rank\", hue= 'CountryName',palette= 'Spectral').set(title = \"Top20 Capita_Rank vs Total GDP rank\")\n",
    "\n",
    "def label_point(x, y, val, ax):\n",
    "    a = pd.concat({'x': x, 'y': y, 'val': val}, axis=1)\n",
    "    for i, point in a.iterrows():\n",
    "        ax.text(point['x']+.02, point['y'], str(point['val']))\n",
    "\n",
    "label_point(top20GDP[\"CAP_Rank\"], top20GDP[\"GDP_Rank\"], top20GDP[\"CountryName\"], plt.gca()) \n",
    "plt.gcf().set_size_inches(15, 8)"
   ]
  },
  {
   "cell_type": "code",
   "execution_count": null,
   "id": "18fc88e0",
   "metadata": {},
   "outputs": [],
   "source": [
    "\n",
    "sns.lmplot(data =top80GDP, y= \"GDP_Rank\", x = \"CAP_Rank\", hue= 'CountryName',palette= 'viridis').set(title = \"Top80 Capita_Rank vs Total GDP rank\")\n",
    "\n",
    "def label_point(x, y, val, ax):\n",
    "    a = pd.concat({'x': x, 'y': y, 'val': val}, axis=1)\n",
    "    for i, point in a.iterrows():\n",
    "        ax.text(point['x']+.02, point['y'], str(point['val']))\n",
    "\n",
    "label_point(top80GDP[\"CAP_Rank\"], top80GDP[\"GDP_Rank\"], top80GDP[\"CountryName\"], plt.gca()) \n",
    "plt.gcf().set_size_inches(15, 8)"
   ]
  },
  {
   "cell_type": "code",
   "execution_count": null,
   "id": "fe3ce7e9",
   "metadata": {
    "scrolled": false
   },
   "outputs": [],
   "source": [
    "sns.displot(total_capita['CAP'], bins = 10)"
   ]
  },
  {
   "cell_type": "markdown",
   "id": "9600b970",
   "metadata": {},
   "source": [
    "Sampling data for plots "
   ]
  },
  {
   "cell_type": "code",
   "execution_count": null,
   "id": "752dfc84",
   "metadata": {
    "scrolled": false
   },
   "outputs": [],
   "source": [
    "sampling = total_capita.sample(int(0.2*len(total_capita)))\n",
    "                               \n",
    "plt.figure(figsize =(10,6))\n",
    "sns.regplot(data =sampling, y = \"GDP\", x = \"CAP\", color = 'c').set(title = \"GDP per Capita vs Total GDP\")"
   ]
  },
  {
   "cell_type": "markdown",
   "id": "344b76ba",
   "metadata": {},
   "source": [
    "Plotting Billionaires networth and age "
   ]
  },
  {
   "cell_type": "code",
   "execution_count": null,
   "id": "0dd526bc",
   "metadata": {},
   "outputs": [],
   "source": [
    "plt.figure(figsize = (10,6))\n",
    "sns.regplot(data =Bnaires, y = \"networth\", x = \"age\", color ='g')"
   ]
  },
  {
   "cell_type": "markdown",
   "id": "89fa2885",
   "metadata": {},
   "source": [
    "Merging total capita and billionaires data"
   ]
  },
  {
   "cell_type": "code",
   "execution_count": null,
   "id": "387bf917",
   "metadata": {},
   "outputs": [],
   "source": [
    "Bnaires_GDP =Bnaires.merge(total_capita,how= \"inner\", left_on = \"country\", right_on=\"Country\")"
   ]
  },
  {
   "cell_type": "code",
   "execution_count": null,
   "id": "a0f65aee",
   "metadata": {},
   "outputs": [],
   "source": [
    "countrygroup = Bnaires_GDP.groupby('country').sum()"
   ]
  },
  {
   "cell_type": "code",
   "execution_count": null,
   "id": "443b086d",
   "metadata": {},
   "outputs": [],
   "source": [
    "countrygroup.head()"
   ]
  },
  {
   "cell_type": "code",
   "execution_count": null,
   "id": "1504ae02",
   "metadata": {},
   "outputs": [],
   "source": [
    "sns.jointplot(x= 'CAP', y = 'networth', data= countrygroup, kind='reg')"
   ]
  },
  {
   "cell_type": "code",
   "execution_count": null,
   "id": "c879cc41",
   "metadata": {
    "scrolled": true
   },
   "outputs": [],
   "source": [
    "sns.jointplot(x= 'networth', y = 'GDP', data= countrygroup, kind='reg')"
   ]
  },
  {
   "cell_type": "markdown",
   "id": "237eb9d0",
   "metadata": {},
   "source": [
    "Below plot against networth and total gdp/gdp_cap ratio does not provide good insights. "
   ]
  },
  {
   "cell_type": "code",
   "execution_count": null,
   "id": "a3e1d766",
   "metadata": {},
   "outputs": [],
   "source": [
    "plt.figure(figsize =(10,6))\n",
    "sns.regplot(data = countrygroup, y = \"networth\", x = \"TotalGDP_standardliving_ratio\", color = 'c').set(title = \"GDP per Capita vs Total GDP\")"
   ]
  },
  {
   "cell_type": "markdown",
   "id": "ecffec21",
   "metadata": {},
   "source": [
    "ranking the data by gdp/gdp_cap to see if this provides a better information on billionaire countries and Gdp/gdp_cap gap"
   ]
  },
  {
   "cell_type": "code",
   "execution_count": null,
   "id": "8d33567e",
   "metadata": {},
   "outputs": [],
   "source": [
    "countrygroup[\"gdp_gdpcap_gap_rank\"] = countrygroup[\"TotalGDP_standardliving_ratio\"].rank(ascending = True)\n",
    "countrygroup[\"networth_rank\"] = countrygroup[\"networth\"].rank(ascending = False)"
   ]
  },
  {
   "cell_type": "code",
   "execution_count": null,
   "id": "8d3e003b",
   "metadata": {},
   "outputs": [],
   "source": [
    "countrygroup.sort_values(by = \"gdp_gdpcap_gap_rank\", ascending= False)"
   ]
  },
  {
   "cell_type": "code",
   "execution_count": null,
   "id": "34ff9f42",
   "metadata": {},
   "outputs": [],
   "source": [
    "countrygroup.reset_index(inplace = True)"
   ]
  },
  {
   "cell_type": "markdown",
   "id": "709d17c7",
   "metadata": {},
   "source": [
    "Below line graph on gdp_capita_gap_rank vs networth_rank has negative relationship, which indicates the countries that have most money by bilionaires will have higher proportion of gdp/gdpcapita "
   ]
  },
  {
   "cell_type": "code",
   "execution_count": null,
   "id": "8e941e08",
   "metadata": {
    "scrolled": true
   },
   "outputs": [],
   "source": [
    "sns.lmplot(data =countrygroup, y = \"networth_rank\", x ='gdp_gdpcap_gap_rank' )"
   ]
  },
  {
   "cell_type": "code",
   "execution_count": null,
   "id": "c512f78f",
   "metadata": {},
   "outputs": [],
   "source": [
    "top30networth= countrygroup.nlargest(30,[\"networth\"])"
   ]
  },
  {
   "cell_type": "code",
   "execution_count": null,
   "id": "f68cc654",
   "metadata": {},
   "outputs": [],
   "source": [
    "sns.lmplot(data =top30networth, x = \"networth_rank\", y ='gdp_gdpcap_gap_rank', hue = 'country')\n",
    "\n",
    "\n",
    "def label_point(x, y, val, ax):\n",
    "    a = pd.concat({'x': x, 'y': y, 'val': val}, axis=1)\n",
    "    for i, point in a.iterrows():\n",
    "        ax.text(point['x']+.02, point['y'], str(point['val']))\n",
    "\n",
    "label_point(top30networth[\"networth_rank\"], top30networth[\"gdp_gdpcap_gap_rank\"], top30networth[\"country\"], plt.gca()) \n",
    "plt.gcf().set_size_inches(20, 15)\n",
    "\n"
   ]
  },
  {
   "cell_type": "code",
   "execution_count": null,
   "id": "dbaabef9",
   "metadata": {},
   "outputs": [],
   "source": []
  }
 ],
 "metadata": {
  "kernelspec": {
   "display_name": "Python 3 (ipykernel)",
   "language": "python",
   "name": "python3"
  },
  "language_info": {
   "codemirror_mode": {
    "name": "ipython",
    "version": 3
   },
   "file_extension": ".py",
   "mimetype": "text/x-python",
   "name": "python",
   "nbconvert_exporter": "python",
   "pygments_lexer": "ipython3",
   "version": "3.9.12"
  }
 },
 "nbformat": 4,
 "nbformat_minor": 5
}
