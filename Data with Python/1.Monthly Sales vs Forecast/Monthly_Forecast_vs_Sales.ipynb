{
 "cells": [
  {
   "cell_type": "code",
   "execution_count": null,
   "id": "609f709d",
   "metadata": {},
   "outputs": [],
   "source": [
    "#Scope\n",
    "#Processing Monthly actual sales and mapping file and output summuary of monthly forecast vs sales data\n",
    "\n",
    "#1.Raw dataset containing Forecast & Actual Sales monthly record\n",
    "#2.Mapping table that identifies subscription names to department"
   ]
  },
  {
   "cell_type": "code",
   "execution_count": null,
   "id": "55366f8b",
   "metadata": {},
   "outputs": [],
   "source": [
    "#importing pandas and data and mapping file\n",
    "\n",
    "import pandas as pd\n",
    "df = pd.read_csv(\"data.csv\")\n",
    "costmatrix = pd.read_csv('CostMatrix.csv')"
   ]
  },
  {
   "cell_type": "code",
   "execution_count": null,
   "id": "2a06a1c2",
   "metadata": {},
   "outputs": [],
   "source": [
    "#replacing N/A to blank string\n",
    "df = df.fillna('')"
   ]
  },
  {
   "cell_type": "code",
   "execution_count": null,
   "id": "8ee8bc5b",
   "metadata": {},
   "outputs": [],
   "source": [
    "#joining mapping file\n",
    "df = pd.merge(df, costmatrix, how = 'left', on='Subscription_Name')"
   ]
  },
  {
   "cell_type": "code",
   "execution_count": null,
   "id": "b2dc81d1",
   "metadata": {},
   "outputs": [],
   "source": [
    "#making a pivot table\n",
    "pivot = df.pivot_table(values = [\"Consumed_Quantity\",\"ExtendedCost\",\"USD\"],index=[\"Subscription_Name\",\"Account_Name\",\"Meter_Region\",\"Resource_Location\",\"Product\"]"
   ]
  },
  {
   "cell_type": "code",
   "execution_count": null,
   "id": "81a80854",
   "metadata": {},
   "outputs": [],
   "source": [
    "#Exporting pivot table to excel\n",
    "pivot.to_excel(\"pivoted.xlsx\",merge_cells=False)\n",
    "df2 = pd.read_excel(\"pivoted.xlsx\")\n",
    "df2 = pd.merge(df2, costmatrix, how='left', on =\"Subscription_Name\")\n"
   ]
  },
  {
   "cell_type": "code",
   "execution_count": null,
   "id": "6dbe5e33",
   "metadata": {},
   "outputs": [],
   "source": [
    "#adjusting reimported file\n",
    "\n",
    "df2['Exchange_Rate'] = 1.807107468\n",
    "df2['USD']=(df2['ExtendedCost']*1.807107468)\n",
    "df2['Month #'] = '2'\n",
    "df2[\"Month text\"] = \"Feb\"\n",
    "df2[\"Year\"] = \"2022\"\n",
    "df2[\"Quarter\"] = \"Q1\"\n",
    "df2[\"ID\"] = \"Spend\"\n",
    "df2[\"Month\"] = '02/01/2022' \n",
    "df2 = df2[[\"Subscription_Name\",\"Account_Name\",\"Meter_Region\",\"Resource_Location\",\"Product\",\"Meter_Category\",\"Unit_Of_Measure\",\"Month #\",\"Consumed_Quantity\",\"ExtendedCost\"]"
   ]
  },
  {
   "cell_type": "code",
   "execution_count": null,
   "id": "45e58e45",
   "metadata": {},
   "outputs": [],
   "source": [
    "#Final Export \n",
    "df2.to_csv('FinalReport.csv', mode='a', index=False, header=False)"
   ]
  },
  {
   "cell_type": "code",
   "execution_count": null,
   "id": "5712f048",
   "metadata": {},
   "outputs": [],
   "source": [
    "#renaming and replacing space in a column\n",
    "costmatrix=costmatrix.rename(columns ={'Subscription':'Subscription_Name'})\n",
    "df.columns=df.columns.str.replace(\" \",\"_\")"
   ]
  },
  {
   "cell_type": "code",
   "execution_count": null,
   "id": "16935f7c",
   "metadata": {},
   "outputs": [],
   "source": [
    "#creating columns for Exchange rate and USD \n",
    "df['Exchange_Rate'] = 1.807107468\n",
    "df['USD']=(df['ExtendedCost']*1.807107468"
   ]
  },
  {
   "cell_type": "code",
   "execution_count": null,
   "id": "f0e37e69",
   "metadata": {},
   "outputs": [],
   "source": [
    "#replacing N/A to blank string\n",
    "df = df.fillna('')"
   ]
  }
 ],
 "metadata": {
  "kernelspec": {
   "display_name": "Python 3 (ipykernel)",
   "language": "python",
   "name": "python3"
  },
  "language_info": {
   "codemirror_mode": {
    "name": "ipython",
    "version": 3
   },
   "file_extension": ".py",
   "mimetype": "text/x-python",
   "name": "python",
   "nbconvert_exporter": "python",
   "pygments_lexer": "ipython3",
   "version": "3.9.7"
  }
 },
 "nbformat": 4,
 "nbformat_minor": 5
}
